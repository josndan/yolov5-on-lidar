{
 "cells": [
  {
   "cell_type": "code",
   "execution_count": 1,
   "metadata": {
    "colab": {
     "base_uri": "https://localhost:8080/"
    },
    "executionInfo": {
     "elapsed": 17337,
     "status": "ok",
     "timestamp": 1668292126723,
     "user": {
      "displayName": "Joseph Daniel Selvaraaj",
      "userId": "01267249207347429283"
     },
     "user_tz": 300
    },
    "id": "jRI-oZ59lFJ-",
    "outputId": "7f57d148-cdf2-4d9d-e734-162ef372b37e"
   },
   "outputs": [],
   "source": [
    "!pip install -qr requirements.txt "
   ]
  },
  {
   "cell_type": "code",
   "execution_count": 5,
   "metadata": {
    "executionInfo": {
     "elapsed": 602,
     "status": "ok",
     "timestamp": 1668292127317,
     "user": {
      "displayName": "Joseph Daniel Selvaraaj",
      "userId": "01267249207347429283"
     },
     "user_tz": 300
    },
    "id": "gE0M2pJ5JW8I"
   },
   "outputs": [],
   "source": [
    "from ouster import client\n",
    "from ouster import pcap\n",
    "from contextlib import closing\n",
    "from os import listdir,walk\n",
    "from os.path import join\n",
    "from pathlib import Path\n",
    "import subprocess\n",
    "import os\n",
    "\n",
    "from tqdm import tqdm\n",
    "import cv2\n",
    "import numpy as np\n",
    "from joblib import Parallel, delayed"
   ]
  },
  {
   "cell_type": "code",
   "execution_count": 6,
   "metadata": {},
   "outputs": [],
   "source": [
    "new_folder_name = \"split_files\" #Must Match the name in break_up_pcap notebook"
   ]
  },
  {
   "cell_type": "code",
   "execution_count": 7,
   "metadata": {},
   "outputs": [],
   "source": [
    "def rename_pcap(base):\n",
    "  for root,dirs,files in walk(base):\n",
    "    if Path(root).stem == \"split_files\":\n",
    "      \n",
    "      files = list(filter(lambda x: x.endswith(\".pcap\"),files))\n",
    "    \n",
    "      files = sorted(files,key = lambda e : int(e[e.find(\"Seconds_\")+8:-5]) )\n",
    "      print(f\"Started {root}\")\n",
    "      for i,e in enumerate(files):\n",
    "        renamed = f\"{i+1}.pcap\"\n",
    "        os.rename(join(root, e), join(root,renamed))\n",
    "      print(f\"Finished {root}\")"
   ]
  },
  {
   "cell_type": "code",
   "execution_count": 8,
   "metadata": {},
   "outputs": [
    {
     "name": "stdout",
     "output_type": "stream",
     "text": [
      "Started .\\data\\New_Data\\OS1-64_2022-11-21\\modified\\OS1-64_2022-11-21\\Section1\\2022-11-21-08-14-55_OS-1-64-122225003356-1024x20\\split_files\n",
      "Finished .\\data\\New_Data\\OS1-64_2022-11-21\\modified\\OS1-64_2022-11-21\\Section1\\2022-11-21-08-14-55_OS-1-64-122225003356-1024x20\\split_files\n",
      "Started .\\data\\New_Data\\OS1-64_2022-11-21\\modified\\OS1-64_2022-11-21\\Section2\\2022-11-21-08-44-40_OS-1-64-122225003356-1024x20\\split_files\n",
      "Finished .\\data\\New_Data\\OS1-64_2022-11-21\\modified\\OS1-64_2022-11-21\\Section2\\2022-11-21-08-44-40_OS-1-64-122225003356-1024x20\\split_files\n",
      "Started .\\data\\New_Data\\OS1-64_2022-11-21\\modified\\OS1-64_2022-11-21\\Section3\\2022-11-21-17-25-12_OS-1-64-122225003356-1024x20\\split_files\n",
      "Finished .\\data\\New_Data\\OS1-64_2022-11-21\\modified\\OS1-64_2022-11-21\\Section3\\2022-11-21-17-25-12_OS-1-64-122225003356-1024x20\\split_files\n"
     ]
    }
   ],
   "source": [
    "rename_pcap(join(\".\",\"data\",\"New_Data\",\"OS1-64_2022-11-21\",\"modified\"))"
   ]
  },
  {
   "cell_type": "code",
   "execution_count": 63,
   "metadata": {
    "id": "_SWQ1sBP9Asd"
   },
   "outputs": [],
   "source": [
    "def rename_pcap(date,val):\n",
    "  prefix = \"D:\\\\SBIR\\\\\" + date + f\"{val}\\\\small_files\\\\\"\n",
    "\n",
    "  files = [f for f in listdir(prefix)]\n",
    "  \n",
    "  files = sorted(files,key = lambda e : int(e[e.find(\"Seconds_\")+8:-5]) )\n",
    "  \n",
    "  print(f\"Started {date}\\{val}\")\n",
    "  for i,e in enumerate(files):\n",
    "    renamed = f\"{i+1}.pcap\"\n",
    "    # print(\"ren\", prefix + e, prefix + renamed)\n",
    "    os.rename(prefix + e, prefix + renamed)\n",
    "  print(f\"Finished {date}\\{val}\")"
   ]
  },
  {
   "cell_type": "code",
   "execution_count": 62,
   "metadata": {},
   "outputs": [],
   "source": [
    "rename_pcap(date,1)"
   ]
  },
  {
   "cell_type": "code",
   "execution_count": 90,
   "metadata": {},
   "outputs": [
    {
     "name": "stdout",
     "output_type": "stream",
     "text": [
      "Started SBIR_2022-10-20\\\\34\n",
      "Started SBIR_2022-10-20\\\\33\n",
      "Finished SBIR_2022-10-20\\\\34\n",
      "Started SBIR_2022-10-20\\\\35\n",
      "Finished SBIR_2022-10-20\\\\33\n",
      "Started SBIR_2022-10-20\\\\36\n",
      "Finished SBIR_2022-10-20\\\\36\n",
      "Finished SBIR_2022-10-20\\\\35\n"
     ]
    },
    {
     "data": {
      "text/plain": [
       "[None, None, None, None]"
      ]
     },
     "execution_count": 90,
     "metadata": {},
     "output_type": "execute_result"
    }
   ],
   "source": [
    "Parallel(n_jobs=2, prefer=\"threads\")(delayed(rename_pcap)(date,val)for val in range(dates[date][0],dates[date][1]+1)) #range(dates[date][0],dates[date][1]+1)"
   ]
  }
 ],
 "metadata": {
  "colab": {
   "authorship_tag": "ABX9TyO/xh1FdKa4bo7gO2lFOEH8",
   "collapsed_sections": [],
   "provenance": []
  },
  "kernelspec": {
   "display_name": "Python 3 (ipykernel)",
   "language": "python",
   "name": "python3"
  },
  "language_info": {
   "codemirror_mode": {
    "name": "ipython",
    "version": 3
   },
   "file_extension": ".py",
   "mimetype": "text/x-python",
   "name": "python",
   "nbconvert_exporter": "python",
   "pygments_lexer": "ipython3",
   "version": "3.10.4"
  }
 },
 "nbformat": 4,
 "nbformat_minor": 4
}
