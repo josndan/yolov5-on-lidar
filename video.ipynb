{
 "cells": [
  {
   "cell_type": "code",
   "execution_count": 2,
   "metadata": {
    "colab": {
     "base_uri": "https://localhost:8080/"
    },
    "executionInfo": {
     "elapsed": 19130,
     "status": "ok",
     "timestamp": 1668292026949,
     "user": {
      "displayName": "Joseph Daniel Selvaraaj",
      "userId": "01267249207347429283"
     },
     "user_tz": 300
    },
    "id": "jRI-oZ59lFJ-",
    "outputId": "a0a26d16-cf52-455d-d9fd-da7d342a51c0"
   },
   "outputs": [],
   "source": [
    "!pip install -qr requirements.txt "
   ]
  },
  {
   "cell_type": "code",
   "execution_count": 1,
   "metadata": {
    "executionInfo": {
     "elapsed": 594,
     "status": "ok",
     "timestamp": 1668292027533,
     "user": {
      "displayName": "Joseph Daniel Selvaraaj",
      "userId": "01267249207347429283"
     },
     "user_tz": 300
    },
    "id": "gE0M2pJ5JW8I"
   },
   "outputs": [],
   "source": [
    "from ouster import client\n",
    "from ouster import pcap\n",
    "from contextlib import closing\n",
    "from os import listdir\n",
    "from os.path import join, isdir, abspath\n",
    "from pathlib import Path\n",
    "import subprocess\n",
    "\n",
    "from tqdm import tqdm\n",
    "import cv2\n",
    "import numpy as np\n",
    "from joblib import Parallel, delayed"
   ]
  },
  {
   "cell_type": "code",
   "execution_count": 2,
   "metadata": {
    "colab": {
     "base_uri": "https://localhost:8080/"
    },
    "executionInfo": {
     "elapsed": 186,
     "status": "ok",
     "timestamp": 1668292027714,
     "user": {
      "displayName": "Joseph Daniel Selvaraaj",
      "userId": "01267249207347429283"
     },
     "user_tz": 300
    },
    "id": "cWzXsu_jSOtD",
    "outputId": "ae6b785a-ac3f-493e-dfb6-733269500359"
   },
   "outputs": [],
   "source": [
    "%matplotlib inline\n",
    "import matplotlib.pyplot as plt"
   ]
  },
  {
   "cell_type": "code",
   "execution_count": 3,
   "metadata": {
    "id": "j_oz6njslVVu"
   },
   "outputs": [],
   "source": [
    "def transform_pcap(meta_path,file_path,save_path,clip,channel):\n",
    "    \n",
    "  print(f\"Started {file_path}\")\n",
    "\n",
    "  with open(meta_path, 'r') as f:\n",
    "    metadata = client.SensorInfo(f.read())\n",
    "\n",
    "  pcap_file = pcap.Pcap(file_path, metadata)\n",
    "\n",
    "  fps = int(str(metadata.mode)[-2:])\n",
    "  width = int(str(metadata.mode)[:4])\n",
    "  height = int(str(metadata.prod_line).split('-')[2])\n",
    "\n",
    "  if clip:\n",
    "      left_clip = 190#0\n",
    "      right_clip = 275#-1024\n",
    "  else:\n",
    "      left_clip = 0\n",
    "      right_clip = -1024\n",
    "\n",
    "  width -= left_clip + right_clip\n",
    "  \n",
    "  base = join(save_path, channel)\n",
    "  Path(base).mkdir(parents=True,exist_ok=True)\n",
    "  # print(meta_path,file_path,save_path)\n",
    "\n",
    "  with closing(client.Scans(pcap_file)) as scans:\n",
    "\n",
    "    vid_writer_sig = cv2.VideoWriter(join(save_path,\"signal.avi\"), cv2.VideoWriter_fourcc(*\"RGBA\"), fps, (width, height))\n",
    "    # vid_writer_range = cv2.VideoWriter(save_path+\"_range.avi\", cv2.VideoWriter_fourcc(*\"RGBA\"), fps, (width, height))\n",
    "    # vid_writer_ref = cv2.VideoWriter(save_path+\"_reflectivity.avi\", cv2.VideoWriter_fourcc(*\"RGBA\"), fps, (width, height))\n",
    "    # vid_writer_nir = cv2.VideoWriter(save_path+\"_near_ir.avi\", cv2.VideoWriter_fourcc(*\"RGBA\"), fps, (width, height))\n",
    "\n",
    "\n",
    "    for i,scan in enumerate(tqdm(scans, position=0, leave=True)):\n",
    "\n",
    "      ref_field = scan.field(client.ChanField.REFLECTIVITY)\n",
    "      ref_val = client.destagger(pcap_file.metadata, ref_field)\n",
    "      ref_img = ref_val.astype(np.uint8)[:,left_clip:-right_clip]\n",
    "\n",
    "      sig_field = scan.field(client.ChanField.SIGNAL)\n",
    "      sig_val = client.destagger(pcap_file.metadata, sig_field)\n",
    "      sig_img = sig_val.astype(np.uint8)[:,left_clip:-right_clip]\n",
    "\n",
    "      ir_field = scan.field(client.ChanField.NEAR_IR)\n",
    "      ir_val = client.destagger(pcap_file.metadata, ir_field)\n",
    "      ir_img = ir_val.astype(np.uint8)[:,left_clip:-right_clip]\n",
    "\n",
    "      range_field = scan.field(client.ChanField.RANGE)\n",
    "      range_val = client.destagger(pcap_file.metadata, range_field)\n",
    "      range_img = range_val.astype(np.uint8)[:,left_clip:-right_clip]\n",
    "\n",
    "      custom_img = np.dstack((sig_img,range_img,ir_img))\n",
    "\n",
    "      sig_img = np.dstack((sig_img, sig_img, sig_img))\n",
    "      range_img = np.dstack((range_img, range_img, range_img))\n",
    "      ref_img = np.dstack((ref_img, ref_img, ref_img))\n",
    "      ir_img = np.dstack((ir_img, ir_img, ir_img))\n",
    "\n",
    "\n",
    "      # sig_img = cv2.cvtColor(sig_img, cv2.COLOR_BGR2HSV)\n",
    "      # sig_img = cv2.applyColorMap(sig_img, cv2.COLORMAP_TURBO)\n",
    "        \n",
    "      \n",
    "      vid_writer_sig.write(sig_img)\n",
    "      # plt.imshow(sig_img)\n",
    "      # plt.show()\n",
    "      # if channel == \"ir\":\n",
    "      #   cv2.imwrite(join(base,f\"{i+1}.png\"),ir_img)\n",
    "      # elif channel == \"signal\":\n",
    "      #   cv2.imwrite(join(base,f\"{i+1}.png\"),sig_img)\n",
    "      # elif channel == \"reflection\":\n",
    "      #     cv2.imwrite(join(base,f\"{i+1}.png\"),ref_img)\n",
    "      # elif channel == \"range\":\n",
    "      #     cv2.imwrite(join(base,f\"{i+1}.png\"),range_img)\n",
    "      # else:\n",
    "      #   cv2.imwrite(join(base,f\"{i+1}.png\"),custom_img)\n",
    "\n",
    "      # vid_writer_range.write(range_img)\n",
    "      # vid_writer_ref.write(ref_img)    \n",
    "      # vid_writer_nir.write(ir_img)\n",
    "\n",
    "    vid_writer_sig.release()\n",
    "    # vid_writer_range.release()\n",
    "    # vid_writer_ref.release()\n",
    "    # vid_writer_nir.release()\n",
    "    cv2.destroyAllWindows()\n",
    "    \n",
    "  print(f\"Finished {file_path}\")"
   ]
  },
  {
   "cell_type": "code",
   "execution_count": 4,
   "metadata": {},
   "outputs": [],
   "source": [
    "def recurse_transform(base,transform_fun,clip,channel):\n",
    "\n",
    "    try:\n",
    "        files = listdir(base)\n",
    "    except FileNotFoundError:\n",
    "        print(f\"{base} does not exist\")\n",
    "        return\n",
    "\n",
    "    directories = list(filter(lambda x: isdir(join(base,x)),files))\n",
    "    \n",
    "    pcap_files = list(filter(lambda x: x.endswith(\".pcap\"),files))\n",
    "    \n",
    "    # meta_files = map(lambda x: str(Path(x).with_suffix(\".json\")),pcap_files)\n",
    "    # meta_files = map(lambda x: join(base,\"meta.json\"),pcap_files)\n",
    "\n",
    "    base_parent = Path(base).parent.absolute()\n",
    "    p_files = list(filter(lambda x: x.endswith(\".pcap\"),listdir(str(base_parent))))\n",
    "    meta_files = [join(base_parent,str(Path(p_files[0]).with_suffix(\".json\")))] * len(p_files)\n",
    "\n",
    "\n",
    "    if pcap_files:\n",
    "      print(f\"Started {base} :: {pcap_files}\")\n",
    "        \n",
    "      Parallel(n_jobs=4)(delayed(transform_fun)(meta,join(base,pcap),join(base,Path(pcap).stem),clip,channel)for meta,pcap in zip(meta_files,pcap_files))\n",
    "\n",
    "      print(f\"Finished {pcap_files}\")\n",
    "    \n",
    "    for directory in directories:\n",
    "        recurse_transform(join(base,directory),transform_fun,clip,channel)"
   ]
  },
  {
   "cell_type": "code",
   "execution_count": null,
   "outputs": [
    {
     "name": "stdout",
     "output_type": "stream",
     "text": [
      "Started .\\data\\SBIR\\SBIR_2022-10-06\\14\\small_files :: ['1.pcap', '2.pcap', '3.pcap', '4.pcap']\n",
      "Finished ['1.pcap', '2.pcap', '3.pcap', '4.pcap']\n",
      "Started .\\data\\SBIR\\SBIR_2022-10-06\\1\\small_files :: ['1.pcap', '2.pcap', '3.pcap', '4.pcap']\n",
      "Finished ['1.pcap', '2.pcap', '3.pcap', '4.pcap']\n",
      "Started .\\data\\SBIR\\SBIR_2022-10-06\\2\\small_files :: ['1.pcap', '2.pcap', '3.pcap', '4.pcap', '5.pcap', '6.pcap']\n",
      "Finished ['1.pcap', '2.pcap', '3.pcap', '4.pcap', '5.pcap', '6.pcap']\n",
      "Started .\\data\\SBIR\\SBIR_2022-10-06\\3\\small_files :: ['1.pcap', '2.pcap', '3.pcap', '4.pcap', '5.pcap', '6.pcap', '7.pcap', '8.pcap']\n",
      "Finished ['1.pcap', '2.pcap', '3.pcap', '4.pcap', '5.pcap', '6.pcap', '7.pcap', '8.pcap']\n",
      "Started .\\data\\SBIR\\SBIR_2022-10-06\\4\\small_files :: ['1.pcap', '2.pcap', '3.pcap', '4.pcap', '5.pcap', '6.pcap', '7.pcap']\n",
      "Finished ['1.pcap', '2.pcap', '3.pcap', '4.pcap', '5.pcap', '6.pcap', '7.pcap']\n",
      "Started .\\data\\SBIR\\SBIR_2022-10-06\\5\\small_files :: ['1.pcap', '2.pcap', '3.pcap', '4.pcap', '5.pcap', '6.pcap', '7.pcap']\n",
      "Finished ['1.pcap', '2.pcap', '3.pcap', '4.pcap', '5.pcap', '6.pcap', '7.pcap']\n",
      "Started .\\data\\SBIR\\SBIR_2022-10-06\\6\\small_files :: ['1.pcap', '2.pcap', '3.pcap', '4.pcap']\n",
      "Finished ['1.pcap', '2.pcap', '3.pcap', '4.pcap']\n",
      "Started .\\data\\SBIR\\SBIR_2022-10-06\\7\\small_files :: ['1.pcap']\n",
      "Finished ['1.pcap']\n",
      "Started .\\data\\SBIR\\SBIR_2022-10-06\\8\\small_files :: ['1.pcap', '2.pcap', '3.pcap', '4.pcap']\n",
      "Finished ['1.pcap', '2.pcap', '3.pcap', '4.pcap']\n",
      "Started .\\data\\SBIR\\SBIR_2022-10-06\\9\\small_files :: ['1.pcap', '2.pcap']\n",
      "Finished ['1.pcap', '2.pcap']\n",
      ".\\data\\SBIR\\SBIR_2022-10-06\\10\\small_files does not exist\n",
      "Started .\\data\\SBIR\\SBIR_2022-10-06\\11\\small_files :: ['1.pcap', '2.pcap', '3.pcap', '4.pcap']\n",
      "Finished ['1.pcap', '2.pcap', '3.pcap', '4.pcap']\n",
      "Started .\\data\\SBIR\\SBIR_2022-10-06\\12\\small_files :: ['1.pcap', '2.pcap', '3.pcap']\n",
      "Finished ['1.pcap', '2.pcap', '3.pcap']\n",
      "Started .\\data\\SBIR\\SBIR_2022-10-06\\13\\small_files :: ['1.pcap', '2.pcap', '3.pcap', '4.pcap', '5.pcap']\n",
      "Finished ['1.pcap', '2.pcap', '3.pcap', '4.pcap', '5.pcap']\n",
      "Started .\\data\\SBIR\\SBIR_2022-10-07\\20\\small_files :: ['1.pcap', '2.pcap', '3.pcap', '4.pcap', '5.pcap']\n",
      "Finished ['1.pcap', '2.pcap', '3.pcap', '4.pcap', '5.pcap']\n",
      "Started .\\data\\SBIR\\SBIR_2022-10-07\\15\\small_files :: ['1.pcap', '2.pcap', '3.pcap', '4.pcap', '5.pcap', '6.pcap', '7.pcap', '8.pcap']\n",
      "Finished ['1.pcap', '2.pcap', '3.pcap', '4.pcap', '5.pcap', '6.pcap', '7.pcap', '8.pcap']\n",
      "Started .\\data\\SBIR\\SBIR_2022-10-07\\16\\small_files :: ['1.pcap', '2.pcap']\n",
      "Finished ['1.pcap', '2.pcap']\n",
      "Started .\\data\\SBIR\\SBIR_2022-10-07\\17\\small_files :: ['1.pcap', '2.pcap', '3.pcap', '4.pcap', '5.pcap']\n",
      "Finished ['1.pcap', '2.pcap', '3.pcap', '4.pcap', '5.pcap']\n",
      "Started .\\data\\SBIR\\SBIR_2022-10-07\\18\\small_files :: ['1.pcap', '2.pcap', '3.pcap', '4.pcap', '5.pcap', '6.pcap']\n",
      "Finished ['1.pcap', '2.pcap', '3.pcap', '4.pcap', '5.pcap', '6.pcap']\n",
      "Started .\\data\\SBIR\\SBIR_2022-10-07\\19\\small_files :: ['1.pcap', '2.pcap', '3.pcap', '4.pcap', '5.pcap']\n",
      "Finished ['1.pcap', '2.pcap', '3.pcap', '4.pcap', '5.pcap']\n",
      ".\\data\\SBIR\\SBIR_2022-10-08\\31\\small_files does not exist\n",
      "Started .\\data\\SBIR\\SBIR_2022-10-08\\21\\small_files :: ['1.pcap', '2.pcap', '3.pcap', '4.pcap', '5.pcap']\n",
      "Finished ['1.pcap', '2.pcap', '3.pcap', '4.pcap', '5.pcap']\n",
      "Started .\\data\\SBIR\\SBIR_2022-10-08\\22\\small_files :: ['1.pcap', '2.pcap', '3.pcap', '4.pcap', '5.pcap', '6.pcap', '7.pcap', '8.pcap']\n",
      "Finished ['1.pcap', '2.pcap', '3.pcap', '4.pcap', '5.pcap', '6.pcap', '7.pcap', '8.pcap']\n",
      "Started .\\data\\SBIR\\SBIR_2022-10-08\\23\\small_files :: ['1.pcap', '2.pcap', '3.pcap', '4.pcap', '5.pcap', '6.pcap']\n",
      "Finished ['1.pcap', '2.pcap', '3.pcap', '4.pcap', '5.pcap', '6.pcap']\n",
      "Started .\\data\\SBIR\\SBIR_2022-10-08\\24\\small_files :: ['1.pcap', '2.pcap', '3.pcap', '4.pcap', '5.pcap', '6.pcap', '7.pcap', '8.pcap']\n",
      "Finished ['1.pcap', '2.pcap', '3.pcap', '4.pcap', '5.pcap', '6.pcap', '7.pcap', '8.pcap']\n",
      "Started .\\data\\SBIR\\SBIR_2022-10-08\\25\\small_files :: ['1.pcap', '2.pcap', '3.pcap', '4.pcap', '5.pcap', '6.pcap']\n",
      "Finished ['1.pcap', '2.pcap', '3.pcap', '4.pcap', '5.pcap', '6.pcap']\n",
      "Started .\\data\\SBIR\\SBIR_2022-10-08\\26\\small_files :: ['1.pcap', '2.pcap', '3.pcap', '4.pcap', '5.pcap', '6.pcap', '7.pcap']\n",
      "Finished ['1.pcap', '2.pcap', '3.pcap', '4.pcap', '5.pcap', '6.pcap', '7.pcap']\n",
      "Started .\\data\\SBIR\\SBIR_2022-10-08\\27\\small_files :: ['1.pcap', '2.pcap', '3.pcap', '4.pcap', '5.pcap', '6.pcap']\n",
      "Finished ['1.pcap', '2.pcap', '3.pcap', '4.pcap', '5.pcap', '6.pcap']\n",
      "Started .\\data\\SBIR\\SBIR_2022-10-08\\28\\small_files :: ['1.pcap', '2.pcap', '3.pcap', '4.pcap', '5.pcap', '6.pcap', '7.pcap']\n",
      "Finished ['1.pcap', '2.pcap', '3.pcap', '4.pcap', '5.pcap', '6.pcap', '7.pcap']\n",
      "Started .\\data\\SBIR\\SBIR_2022-10-08\\29\\small_files :: ['1.pcap', '2.pcap', '3.pcap', '4.pcap', '5.pcap', '6.pcap']\n",
      "Finished ['1.pcap', '2.pcap', '3.pcap', '4.pcap', '5.pcap', '6.pcap']\n",
      "Started .\\data\\SBIR\\SBIR_2022-10-08\\30\\small_files :: ['1.pcap', '2.pcap', '3.pcap', '4.pcap', '5.pcap', '6.pcap', '7.pcap', '8.pcap', '9.pcap']\n",
      "Finished ['1.pcap', '2.pcap', '3.pcap', '4.pcap', '5.pcap', '6.pcap', '7.pcap', '8.pcap', '9.pcap']\n",
      "Started .\\data\\SBIR\\SBIR_2022-10-20\\36\\small_files :: ['1.pcap', '2.pcap']\n",
      "Finished ['1.pcap', '2.pcap']\n",
      "Started .\\data\\SBIR\\SBIR_2022-10-20\\33\\small_files :: ['1.pcap', '2.pcap', '3.pcap', '4.pcap', '5.pcap', '6.pcap']\n",
      "Finished ['1.pcap', '2.pcap', '3.pcap', '4.pcap', '5.pcap', '6.pcap']\n",
      "Started .\\data\\SBIR\\SBIR_2022-10-20\\34\\small_files :: ['1.pcap', '2.pcap', '3.pcap']\n",
      "Finished ['1.pcap', '2.pcap', '3.pcap']\n",
      "Started .\\data\\SBIR\\SBIR_2022-10-20\\35\\small_files :: ['1.pcap', '2.pcap', '3.pcap', '4.pcap', '5.pcap', '6.pcap', '7.pcap']\n",
      "Finished ['1.pcap', '2.pcap', '3.pcap', '4.pcap', '5.pcap', '6.pcap', '7.pcap']\n",
      "Started .\\data\\SBIR\\SBIR_2022-10-21\\40\\small_files :: ['1.pcap', '2.pcap', '3.pcap', '4.pcap', '5.pcap', '6.pcap', '7.pcap']\n",
      "Finished ['1.pcap', '2.pcap', '3.pcap', '4.pcap', '5.pcap', '6.pcap', '7.pcap']\n",
      "Started .\\data\\SBIR\\SBIR_2022-10-21\\37\\small_files :: ['1.pcap', '2.pcap', '3.pcap', '4.pcap', '5.pcap', '6.pcap', '7.pcap']\n",
      "Finished ['1.pcap', '2.pcap', '3.pcap', '4.pcap', '5.pcap', '6.pcap', '7.pcap']\n",
      "Started .\\data\\SBIR\\SBIR_2022-10-21\\38\\small_files :: ['1.pcap', '2.pcap', '3.pcap', '4.pcap']\n",
      "Finished ['1.pcap', '2.pcap', '3.pcap', '4.pcap']\n",
      "Started .\\data\\SBIR\\SBIR_2022-10-21\\39\\small_files :: ['1.pcap', '2.pcap', '3.pcap', '4.pcap', '5.pcap', '6.pcap']\n",
      "Finished ['1.pcap', '2.pcap', '3.pcap', '4.pcap', '5.pcap', '6.pcap']\n",
      "Started .\\data\\SBIR\\SBIR_2022-10-22\\53\\small_files :: ['1.pcap']\n",
      "Finished ['1.pcap']\n",
      "Started .\\data\\SBIR\\SBIR_2022-10-22\\41\\small_files :: ['1.pcap', '2.pcap', '3.pcap', '4.pcap', '5.pcap', '6.pcap']\n",
      "Finished ['1.pcap', '2.pcap', '3.pcap', '4.pcap', '5.pcap', '6.pcap']\n",
      "Started .\\data\\SBIR\\SBIR_2022-10-22\\42\\small_files :: ['1.pcap', '2.pcap', '3.pcap']\n",
      "Finished ['1.pcap', '2.pcap', '3.pcap']\n",
      "Started .\\data\\SBIR\\SBIR_2022-10-22\\43\\small_files :: ['1.pcap', '2.pcap', '3.pcap', '4.pcap', '5.pcap', '6.pcap', '7.pcap']\n",
      "Finished ['1.pcap', '2.pcap', '3.pcap', '4.pcap', '5.pcap', '6.pcap', '7.pcap']\n",
      "Started .\\data\\SBIR\\SBIR_2022-10-22\\44\\small_files :: ['1.pcap', '2.pcap', '3.pcap', '4.pcap', '5.pcap', '6.pcap']\n",
      "Finished ['1.pcap', '2.pcap', '3.pcap', '4.pcap', '5.pcap', '6.pcap']\n",
      "Started .\\data\\SBIR\\SBIR_2022-10-22\\45\\small_files :: ['1.pcap']\n",
      "Finished ['1.pcap']\n",
      "Started .\\data\\SBIR\\SBIR_2022-10-22\\46\\small_files :: ['1.pcap', '2.pcap', '3.pcap', '4.pcap', '5.pcap', '6.pcap', '7.pcap']\n"
     ]
    }
   ],
   "source": [
    "x = [\n",
    " 'SBIR_2022-10-06',\n",
    " 'SBIR_2022-10-07',\n",
    " 'SBIR_2022-10-08',\n",
    " 'SBIR_2022-10-20',\n",
    " 'SBIR_2022-10-21',\n",
    " 'SBIR_2022-10-22']\n",
    "\n",
    "for path in x:\n",
    "  folders = listdir(join(\".\",\"data\",\"SBIR\",path))\n",
    "  for folder in folders:\n",
    "    if folder != \"extracted\":\n",
    "      recurse_transform(join(\".\",\"data\",\"SBIR\",path,folder,\"small_files\"),transform_pcap,clip=True,channel=\"signal\")"
   ],
   "metadata": {
    "collapsed": false,
    "pycharm": {
     "is_executing": true
    }
   }
  },
  {
   "cell_type": "code",
   "execution_count": 5,
   "outputs": [
    {
     "name": "stdout",
     "output_type": "stream",
     "text": [
      "Started ['1.pcap', '2.pcap', '3.pcap', '4.pcap', '5.pcap', '6.pcap']\n",
      "Finished ['1.pcap', '2.pcap', '3.pcap', '4.pcap', '5.pcap', '6.pcap']\n"
     ]
    }
   ],
   "source": [
    "recurse_transform(join(\".\",\"data\",\"SBIR\",\"SBIR_2022-10-06\", \"2\",\"small_files\"),transform_pcap,clip=True,channel=\"ir\")"
   ],
   "metadata": {
    "collapsed": false
   }
  },
  {
   "cell_type": "code",
   "execution_count": 8,
   "outputs": [
    {
     "name": "stdout",
     "output_type": "stream",
     "text": [
      "Started ['1.pcap', '2.pcap', '3.pcap']\n",
      "Finished ['1.pcap', '2.pcap', '3.pcap']\n",
      "Started ['1.pcap', '2.pcap', '3.pcap', '4.pcap']\n",
      "Finished ['1.pcap', '2.pcap', '3.pcap', '4.pcap']\n",
      "Started ['1.pcap', '2.pcap', '3.pcap']\n",
      "Finished ['1.pcap', '2.pcap', '3.pcap']\n"
     ]
    }
   ],
   "source": [
    "recurse_transform(join(\".\",\"data\",\"from_car\",\"OS1-64_2022-11-16\",\"processed\"),transform_pcap,clip=True,channel=\"ir\")"
   ],
   "metadata": {
    "collapsed": false
   }
  },
  {
   "cell_type": "code",
   "execution_count": 9,
   "metadata": {},
   "outputs": [
    {
     "name": "stdout",
     "output_type": "stream",
     "text": [
      "Started ['1.pcap', '2.pcap', '3.pcap', '4.pcap', '5.pcap', '6.pcap']\n",
      "Finished ['1.pcap', '2.pcap', '3.pcap', '4.pcap', '5.pcap', '6.pcap']\n",
      "Started ['1.pcap', '2.pcap', '3.pcap', '4.pcap']\n",
      "Finished ['1.pcap', '2.pcap', '3.pcap', '4.pcap']\n",
      "Started ['1.pcap', '2.pcap', '3.pcap', '4.pcap', '5.pcap', '6.pcap', '7.pcap']\n",
      "Finished ['1.pcap', '2.pcap', '3.pcap', '4.pcap', '5.pcap', '6.pcap', '7.pcap']\n"
     ]
    }
   ],
   "source": [
    "recurse_transform(join(\".\",\"data\",\"from_car\",\"OS1-64_2022-11-21\",\"processed\"),transform_pcap,clip=True,channel=\"ir\")"
   ]
  },
  {
   "cell_type": "markdown",
   "metadata": {},
   "source": [
    "<h1>Old Code</h1>"
   ]
  },
  {
   "cell_type": "code",
   "execution_count": null,
   "metadata": {
    "executionInfo": {
     "elapsed": 5,
     "status": "ok",
     "timestamp": 1668292027715,
     "user": {
      "displayName": "Joseph Daniel Selvaraaj",
      "userId": "01267249207347429283"
     },
     "user_tz": 300
    },
    "id": "jFIDHeoFYJFB"
   },
   "outputs": [],
   "source": [
    "prefix = \".\\\\SBIR\\\\\"\n",
    "dates = {\"SBIR_2022-09-24\\\\\":(1,18),\"SBIR_2022-10-08\\\\\":(21,23),\"SBIR_2022-10-07\\\\\":(15,20),\"SBIR_2022-10-06\\\\\":(1,14),\"SBIR_2022-10-21\\\\\":(37,40),\"SBIR_2022-10-22\\\\\":(41,53),\"SBIR_2022-10-20\\\\\":(33,36)}"
   ]
  },
  {
   "cell_type": "code",
   "execution_count": 11,
   "metadata": {
    "id": "I_1Z8__tYite"
   },
   "outputs": [],
   "source": [
    "def process_given_date(date,val):\n",
    "  prefix = \"D:\\\\SBIR\\\\\" + date + f\"{val}\\\\\"\n",
    "\n",
    "  save_prefix = \"D:\\\\SBIR\\\\\" + date  + f\"extracted\\\\{val}_test\\\\\" \n",
    "    \n",
    "  Path(save_prefix).mkdir(parents=True,exist_ok=True)\n",
    "\n",
    "  files = [f for f in listdir(prefix)]\n",
    "\n",
    "  if not files:\n",
    "    return\n",
    "\n",
    "  meta_path = prefix + files[0][:-5] + \".json\"\n",
    "\n",
    "  print(f\"Started {prefix}...\")\n",
    "\n",
    "  for i in filter(lambda e: e.endswith(\".pcap\"), listdir(prefix + \"small_files\\\\\")):\n",
    "\n",
    "    i = i[:-5]\n",
    "\n",
    "    pcap_path = prefix + \"small_files\\\\\" + str(i) + \".pcap\"\n",
    "\n",
    "    save_path = save_prefix + str(i)\n",
    "\n",
    "    print(f\"Processing {pcap_path}\")\n",
    "\n",
    "    transform_pcap(meta_path,pcap_path,save_path)\n",
    "    \n",
    "  print(f\"Finished {prefix}...\")\n"
   ]
  },
  {
   "cell_type": "code",
   "execution_count": 12,
   "metadata": {
    "id": "_SWQ1sBP9Asd"
   },
   "outputs": [
    {
     "name": "stdout",
     "output_type": "stream",
     "text": [
      "Started D:\\SBIR\\SBIR_2022-09-24\\9\\...\n",
      "Processing D:\\SBIR\\SBIR_2022-09-24\\9\\small_files\\1.pcap\n"
     ]
    },
    {
     "name": "stderr",
     "output_type": "stream",
     "text": [
      "783it [00:19, 40.45it/s]\n"
     ]
    },
    {
     "name": "stdout",
     "output_type": "stream",
     "text": [
      "Processing D:\\SBIR\\SBIR_2022-09-24\\9\\small_files\\2.pcap\n"
     ]
    },
    {
     "name": "stderr",
     "output_type": "stream",
     "text": [
      "3601it [01:31, 39.52it/s]\n"
     ]
    },
    {
     "name": "stdout",
     "output_type": "stream",
     "text": [
      "Processing D:\\SBIR\\SBIR_2022-09-24\\9\\small_files\\3.pcap\n"
     ]
    },
    {
     "name": "stderr",
     "output_type": "stream",
     "text": [
      "3601it [01:30, 39.70it/s]\n"
     ]
    },
    {
     "name": "stdout",
     "output_type": "stream",
     "text": [
      "Processing D:\\SBIR\\SBIR_2022-09-24\\9\\small_files\\4.pcap\n"
     ]
    },
    {
     "name": "stderr",
     "output_type": "stream",
     "text": [
      "3601it [01:29, 40.18it/s]\n"
     ]
    },
    {
     "name": "stdout",
     "output_type": "stream",
     "text": [
      "Processing D:\\SBIR\\SBIR_2022-09-24\\9\\small_files\\5.pcap\n"
     ]
    },
    {
     "name": "stderr",
     "output_type": "stream",
     "text": [
      "3601it [01:29, 40.33it/s]\n"
     ]
    },
    {
     "name": "stdout",
     "output_type": "stream",
     "text": [
      "Processing D:\\SBIR\\SBIR_2022-09-24\\9\\small_files\\6.pcap\n"
     ]
    },
    {
     "name": "stderr",
     "output_type": "stream",
     "text": [
      "3602it [01:29, 40.03it/s]\n"
     ]
    },
    {
     "name": "stdout",
     "output_type": "stream",
     "text": [
      "Processing D:\\SBIR\\SBIR_2022-09-24\\9\\small_files\\7.pcap\n"
     ]
    },
    {
     "name": "stderr",
     "output_type": "stream",
     "text": [
      "489it [00:12, 40.73it/s]"
     ]
    },
    {
     "name": "stdout",
     "output_type": "stream",
     "text": [
      "Finished D:\\SBIR\\SBIR_2022-09-24\\9\\...\n"
     ]
    },
    {
     "name": "stderr",
     "output_type": "stream",
     "text": [
      "\n"
     ]
    }
   ],
   "source": [
    "process_given_date(\"SBIR_2022-09-24\\\\\",9)"
   ]
  },
  {
   "cell_type": "code",
   "execution_count": 13,
   "metadata": {},
   "outputs": [],
   "source": [
    "date = \"SBIR_2022-10-08\\\\\""
   ]
  },
  {
   "cell_type": "code",
   "execution_count": 14,
   "metadata": {},
   "outputs": [],
   "source": [
    "for d,v in [(date,dates[date])]:\n",
    "    Parallel(n_jobs=4)(delayed(process_given_date)(d,val) for val in range(v[0],v[1]+1))"
   ]
  },
  {
   "cell_type": "code",
   "execution_count": null,
   "metadata": {},
   "outputs": [
    {
     "name": "stdout",
     "output_type": "stream",
     "text": [
      "Started D:\\SBIR\\SBIR_2022-10-06\\2\\...\n",
      "Processing D:\\SBIR\\SBIR_2022-10-06\\2\\small_files\\1.pcap\n"
     ]
    },
    {
     "name": "stderr",
     "output_type": "stream",
     "text": [
      "3556it [00:55, 64.55it/s]\n"
     ]
    },
    {
     "name": "stdout",
     "output_type": "stream",
     "text": [
      "Processing D:\\SBIR\\SBIR_2022-10-06\\2\\small_files\\2.pcap\n"
     ]
    },
    {
     "name": "stderr",
     "output_type": "stream",
     "text": [
      "3601it [00:55, 64.94it/s]\n"
     ]
    },
    {
     "name": "stdout",
     "output_type": "stream",
     "text": [
      "Processing D:\\SBIR\\SBIR_2022-10-06\\2\\small_files\\3.pcap\n"
     ]
    },
    {
     "name": "stderr",
     "output_type": "stream",
     "text": [
      "3601it [00:54, 65.97it/s]\n"
     ]
    },
    {
     "name": "stdout",
     "output_type": "stream",
     "text": [
      "Processing D:\\SBIR\\SBIR_2022-10-06\\2\\small_files\\4.pcap\n"
     ]
    },
    {
     "name": "stderr",
     "output_type": "stream",
     "text": [
      "3601it [00:54, 66.61it/s]\n"
     ]
    },
    {
     "name": "stdout",
     "output_type": "stream",
     "text": [
      "Processing D:\\SBIR\\SBIR_2022-10-06\\2\\small_files\\5.pcap\n"
     ]
    },
    {
     "name": "stderr",
     "output_type": "stream",
     "text": [
      "2937it [00:44, 70.97it/s]"
     ]
    }
   ],
   "source": [
    "process_given_date(\"SBIR_2022-10-06\\\\\",2)"
   ]
  },
  {
   "cell_type": "code",
   "execution_count": null,
   "metadata": {},
   "outputs": [],
   "source": []
  }
 ],
 "metadata": {
  "colab": {
   "authorship_tag": "ABX9TyNF8Z1u957RIN9Lbxx1E/ft",
   "collapsed_sections": [],
   "provenance": []
  },
  "kernelspec": {
   "name": "ra",
   "language": "python",
   "display_name": "RA"
  },
  "language_info": {
   "codemirror_mode": {
    "name": "ipython",
    "version": 3
   },
   "file_extension": ".py",
   "mimetype": "text/x-python",
   "name": "python",
   "nbconvert_exporter": "python",
   "pygments_lexer": "ipython3",
   "version": "3.10.4"
  }
 },
 "nbformat": 4,
 "nbformat_minor": 4
}
