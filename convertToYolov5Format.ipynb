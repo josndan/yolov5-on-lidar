{
 "cells": [
  {
   "cell_type": "code",
   "execution_count": 1,
   "metadata": {
    "colab": {
     "base_uri": "https://localhost:8080/"
    },
    "id": "Szq23yoyysFz",
    "outputId": "bde33af1-e15d-4b4a-9167-22fe1718c872"
   },
   "outputs": [
    {
     "name": "stdout",
     "output_type": "stream",
     "text": [
      "Requirement already satisfied: ruamel.yaml in c:\\users\\joeda\\anaconda3\\envs\\ra\\lib\\site-packages (0.17.21)\n",
      "Requirement already satisfied: scikit-learn in c:\\users\\joeda\\anaconda3\\envs\\ra\\lib\\site-packages (1.1.3)\n",
      "Requirement already satisfied: ruamel.yaml.clib>=0.2.6 in c:\\users\\joeda\\anaconda3\\envs\\ra\\lib\\site-packages (from ruamel.yaml) (0.2.7)\n",
      "Requirement already satisfied: scipy>=1.3.2 in c:\\users\\joeda\\anaconda3\\envs\\ra\\lib\\site-packages (from scikit-learn) (1.9.3)\n",
      "Requirement already satisfied: joblib>=1.0.0 in c:\\users\\joeda\\anaconda3\\envs\\ra\\lib\\site-packages (from scikit-learn) (1.2.0)\n",
      "Requirement already satisfied: numpy>=1.17.3 in c:\\users\\joeda\\appdata\\roaming\\python\\python310\\site-packages (from scikit-learn) (1.23.4)\n",
      "Requirement already satisfied: threadpoolctl>=2.0.0 in c:\\users\\joeda\\anaconda3\\envs\\ra\\lib\\site-packages (from scikit-learn) (3.1.0)\n",
      "Note: you may need to restart the kernel to use updated packages.\n"
     ]
    }
   ],
   "source": [
    "# %pip install -qr requirements.txt #requirements for our project\n",
    "%pip install ruamel.yaml scikit-learn"
   ]
  },
  {
   "cell_type": "code",
   "execution_count": 2,
   "metadata": {
    "id": "Zes3ZGsMa36Y"
   },
   "outputs": [],
   "source": [
    "from pathlib import Path\n",
    "from ruamel.yaml import YAML,comments\n",
    "import shutil\n",
    "from os import listdir,rename,walk\n",
    "import time\n",
    "from datetime import datetime,timedelta\n",
    "from os.path import join, getmtime\n",
    "from sklearn.model_selection import train_test_split\n",
    "from pathlib import Path"
   ]
  },
  {
   "cell_type": "code",
   "execution_count": 3,
   "metadata": {
    "id": "r_W5tHrCnwuG"
   },
   "outputs": [],
   "source": [
    "def flist(x):\n",
    "    retval = comments.CommentedSeq(x)\n",
    "    retval.fa.set_flow_style()  # fa -> format attribute\n",
    "    return retval"
   ]
  },
  {
   "cell_type": "code",
   "execution_count": 6,
   "metadata": {},
   "outputs": [],
   "source": [
    "labelled_path = join(\".\",\"data\",\"labelled_jobs\")\n",
    "# last_number_of_minutes = 120"
   ]
  },
  {
   "cell_type": "code",
   "execution_count": 15,
   "metadata": {},
   "outputs": [
    {
     "data": {
      "text/plain": [
       "['.\\\\data\\\\labelled_jobs\\\\job_16-2022_12_03_14_50_00-yolo 1.1',\n",
       " '.\\\\data\\\\labelled_jobs\\\\job_17-2022_12_04_21_19_50-yolo 1.1',\n",
       " '.\\\\data\\\\labelled_jobs\\\\job_19-2022_12_05_22_35_27-yolo 1.1',\n",
       " '.\\\\data\\\\labelled_jobs\\\\job_20-2022_12_06_17_03_22-yolo 1.1',\n",
       " '.\\\\data\\\\labelled_jobs\\\\job_21-2022_12_06_21_33_09-yolo 1.1',\n",
       " '.\\\\data\\\\labelled_jobs\\\\job_22-2022_12_07_18_33_04-yolo 1.1',\n",
       " '.\\\\data\\\\labelled_jobs\\\\job_23-2022_12_08_02_10_03-yolo 1.1',\n",
       " '.\\\\data\\\\labelled_jobs\\\\job_24-2022_12_09_15_15_46-yolo 1.1',\n",
       " '.\\\\data\\\\labelled_jobs\\\\job_25-2022_12_09_15_32_20-yolo 1.1',\n",
       " '.\\\\data\\\\labelled_jobs\\\\job_26-2022_12_09_18_29_56-yolo 1.1',\n",
       " '.\\\\data\\\\labelled_jobs\\\\job_27-2022_12_10_16_47_59-yolo 1.1',\n",
       " '.\\\\data\\\\labelled_jobs\\\\job_28-2022_12_11_19_15_58-yolo 1.1',\n",
       " '.\\\\data\\\\labelled_jobs\\\\job_29-2022_12_12_20_20_59-yolo 1.1',\n",
       " '.\\\\data\\\\labelled_jobs\\\\job_30-2022_12_13_19_51_12-yolo 1.1',\n",
       " '.\\\\data\\\\labelled_jobs\\\\job_31-2022_12_14_16_33_14-yolo 1.1',\n",
       " '.\\\\data\\\\labelled_jobs\\\\job_32-2022_12_14_16_58_22-yolo 1.1']"
      ]
     },
     "execution_count": 15,
     "metadata": {},
     "output_type": "execute_result"
    }
   ],
   "source": [
    "jobs_path = list(map(lambda x: join(labelled_path,x),filter(lambda x: \"ignore\" not in x and \"done\" not in x,listdir(labelled_path))))\n",
    "\n",
    "# path_with_time = [(job_path,datetime.fromtimestamp(max(getmtime(root) for root,_,_ in walk(job_path))))  for job_path in jobs_path]\n",
    "\n",
    "# from_time = datetime.now() - timedelta(hours=0, minutes=last_number_of_minutes)\n",
    "\n",
    "# filtered_jobs = list(zip(* list(filter(lambda x: x[1]>=from_time, path_with_time))))\n",
    "\n",
    "# if filtered_jobs:\n",
    "#     filtered_jobs = filtered_jobs[0]\n",
    "\n",
    "# filtered_jobs\n",
    "jobs_path"
   ]
  },
  {
   "cell_type": "code",
   "execution_count": 18,
   "metadata": {},
   "outputs": [
    {
     "data": {
      "text/plain": [
       "{'.\\\\data\\\\labelled_jobs\\\\job_16-2022_12_03_14_50_00-yolo 1.1': '.\\\\data\\\\New_Data\\\\OS1-64_2022-11-21\\\\modified\\\\OS1-64_2022-11-21\\\\Section1\\\\files\\\\split_files\\\\1\\\\signal',\n",
       " '.\\\\data\\\\labelled_jobs\\\\job_17-2022_12_04_21_19_50-yolo 1.1': '.\\\\data\\\\New_Data\\\\OS1-64_2022-11-21\\\\modified\\\\OS1-64_2022-11-21\\\\Section1\\\\files\\\\split_files\\\\2\\\\signal',\n",
       " '.\\\\data\\\\labelled_jobs\\\\job_19-2022_12_05_22_35_27-yolo 1.1': '.\\\\data\\\\New_Data\\\\OS1-64_2022-11-21\\\\modified\\\\OS1-64_2022-11-21\\\\Section1\\\\files\\\\split_files\\\\3\\\\signal',\n",
       " '.\\\\data\\\\labelled_jobs\\\\job_20-2022_12_06_17_03_22-yolo 1.1': '.\\\\data\\\\New_Data\\\\OS1-64_2022-11-21\\\\modified\\\\OS1-64_2022-11-21\\\\Section1\\\\files\\\\split_files\\\\4\\\\signal',\n",
       " '.\\\\data\\\\labelled_jobs\\\\job_21-2022_12_06_21_33_09-yolo 1.1': '.\\\\data\\\\New_Data\\\\OS1-64_2022-11-21\\\\modified\\\\OS1-64_2022-11-21\\\\Section1\\\\files\\\\split_files\\\\5\\\\signal',\n",
       " '.\\\\data\\\\labelled_jobs\\\\job_22-2022_12_07_18_33_04-yolo 1.1': '.\\\\data\\\\New_Data\\\\OS1-64_2022-11-21\\\\modified\\\\OS1-64_2022-11-21\\\\Section2\\\\files\\\\split_files\\\\1\\\\signal',\n",
       " '.\\\\data\\\\labelled_jobs\\\\job_23-2022_12_08_02_10_03-yolo 1.1': '.\\\\data\\\\New_Data\\\\OS1-64_2022-11-21\\\\modified\\\\OS1-64_2022-11-21\\\\Section2\\\\files\\\\split_files\\\\2\\\\signal',\n",
       " '.\\\\data\\\\labelled_jobs\\\\job_24-2022_12_09_15_15_46-yolo 1.1': '.\\\\data\\\\New_Data\\\\OS1-64_2022-11-21\\\\modified\\\\OS1-64_2022-11-21\\\\Section2\\\\files\\\\split_files\\\\3\\\\signal',\n",
       " '.\\\\data\\\\labelled_jobs\\\\job_25-2022_12_09_15_32_20-yolo 1.1': '.\\\\data\\\\New_Data\\\\OS1-64_2022-11-21\\\\modified\\\\OS1-64_2022-11-21\\\\Section2\\\\files\\\\split_files\\\\4\\\\signal',\n",
       " '.\\\\data\\\\labelled_jobs\\\\job_26-2022_12_09_18_29_56-yolo 1.1': '.\\\\data\\\\New_Data\\\\OS1-64_2022-11-21\\\\modified\\\\OS1-64_2022-11-21\\\\Section3\\\\files\\\\split_files\\\\1\\\\signal',\n",
       " '.\\\\data\\\\labelled_jobs\\\\job_27-2022_12_10_16_47_59-yolo 1.1': '.\\\\data\\\\New_Data\\\\OS1-64_2022-11-21\\\\modified\\\\OS1-64_2022-11-21\\\\Section3\\\\files\\\\split_files\\\\2\\\\signal',\n",
       " '.\\\\data\\\\labelled_jobs\\\\job_28-2022_12_11_19_15_58-yolo 1.1': '.\\\\data\\\\New_Data\\\\OS1-64_2022-11-21\\\\modified\\\\OS1-64_2022-11-21\\\\Section3\\\\files\\\\split_files\\\\3\\\\signal',\n",
       " '.\\\\data\\\\labelled_jobs\\\\job_29-2022_12_12_20_20_59-yolo 1.1': '.\\\\data\\\\New_Data\\\\OS1-64_2022-11-21\\\\modified\\\\OS1-64_2022-11-21\\\\Section3\\\\files\\\\split_files\\\\4\\\\signal',\n",
       " '.\\\\data\\\\labelled_jobs\\\\job_30-2022_12_13_19_51_12-yolo 1.1': '.\\\\data\\\\New_Data\\\\OS1-64_2022-11-21\\\\modified\\\\OS1-64_2022-11-21\\\\Section3\\\\files\\\\split_files\\\\5\\\\signal',\n",
       " '.\\\\data\\\\labelled_jobs\\\\job_31-2022_12_14_16_33_14-yolo 1.1': '.\\\\data\\\\New_Data\\\\OS1-64_2022-11-21\\\\modified\\\\OS1-64_2022-11-21\\\\Section3\\\\files\\\\split_files\\\\6\\\\signal',\n",
       " '.\\\\data\\\\labelled_jobs\\\\job_32-2022_12_14_16_58_22-yolo 1.1': '.\\\\data\\\\New_Data\\\\OS1-64_2022-11-21\\\\modified\\\\OS1-64_2022-11-21\\\\Section3\\\\files\\\\split_files\\\\7\\\\signal'}"
      ]
     },
     "execution_count": 18,
     "metadata": {},
     "output_type": "execute_result"
    }
   ],
   "source": [
    "# image_base1 = join('.','data','SBIR','SBIR_2022-10-06')\n",
    "image_base2 = join('.','data','New_Data','OS1-64_2022-11-21','modified','OS1-64_2022-11-21')\n",
    "\n",
    "image_path = (\n",
    "    join(image_base2,\"Section1\",\"files\",\"split_files\",\"1\",\"signal\"),\n",
    "    join(image_base2,\"Section1\",\"files\",\"split_files\",\"2\",\"signal\"),\n",
    "    join(image_base2,\"Section1\",\"files\",\"split_files\",\"3\",\"signal\"),\n",
    "    join(image_base2,\"Section1\",\"files\",\"split_files\",\"4\",\"signal\"),\n",
    "    join(image_base2,\"Section1\",\"files\",\"split_files\",\"5\",\"signal\"),\n",
    "    join(image_base2,\"Section2\",\"files\",\"split_files\",\"1\",\"signal\"),\n",
    "    join(image_base2,\"Section2\",\"files\",\"split_files\",\"2\",\"signal\"),\n",
    "    join(image_base2,\"Section2\",\"files\",\"split_files\",\"3\",\"signal\"),\n",
    "    join(image_base2,\"Section2\",\"files\",\"split_files\",\"4\",\"signal\"),\n",
    "    join(image_base2,\"Section3\",\"files\",\"split_files\",\"1\",\"signal\"),\n",
    "    join(image_base2,\"Section3\",\"files\",\"split_files\",\"2\",\"signal\"),\n",
    "    join(image_base2,\"Section3\",\"files\",\"split_files\",\"3\",\"signal\"),\n",
    "    join(image_base2,\"Section3\",\"files\",\"split_files\",\"4\",\"signal\"),\n",
    "    join(image_base2,\"Section3\",\"files\",\"split_files\",\"5\",\"signal\"),\n",
    "    join(image_base2,\"Section3\",\"files\",\"split_files\",\"6\",\"signal\"),\n",
    "    join(image_base2,\"Section3\",\"files\",\"split_files\",\"7\",\"signal\")\n",
    ")\n",
    "\n",
    "job_image_path = dict(zip(jobs_path,image_path))\n",
    "job_image_path"
   ]
  },
  {
   "cell_type": "code",
   "execution_count": 19,
   "metadata": {
    "id": "1jx8b3IWaw7x"
   },
   "outputs": [],
   "source": [
    "val_per,test_per = 0.2,0.1"
   ]
  },
  {
   "cell_type": "code",
   "execution_count": 20,
   "metadata": {
    "id": "pc4yiMO6bP-Z"
   },
   "outputs": [
    {
     "name": "stdout",
     "output_type": "stream",
     "text": [
      "Working on .\\data\\labelled_jobs\\job_16-2022_12_03_14_50_00-yolo 1.1\n",
      "Finished on .\\data\\labelled_jobs\\job_16-2022_12_03_14_50_00-yolo 1.1\n",
      "Working on .\\data\\labelled_jobs\\job_17-2022_12_04_21_19_50-yolo 1.1\n",
      "Finished on .\\data\\labelled_jobs\\job_17-2022_12_04_21_19_50-yolo 1.1\n",
      "Working on .\\data\\labelled_jobs\\job_19-2022_12_05_22_35_27-yolo 1.1\n",
      "Finished on .\\data\\labelled_jobs\\job_19-2022_12_05_22_35_27-yolo 1.1\n",
      "Working on .\\data\\labelled_jobs\\job_20-2022_12_06_17_03_22-yolo 1.1\n",
      "Finished on .\\data\\labelled_jobs\\job_20-2022_12_06_17_03_22-yolo 1.1\n",
      "Working on .\\data\\labelled_jobs\\job_21-2022_12_06_21_33_09-yolo 1.1\n",
      "Finished on .\\data\\labelled_jobs\\job_21-2022_12_06_21_33_09-yolo 1.1\n",
      "Working on .\\data\\labelled_jobs\\job_22-2022_12_07_18_33_04-yolo 1.1\n",
      "Finished on .\\data\\labelled_jobs\\job_22-2022_12_07_18_33_04-yolo 1.1\n",
      "Working on .\\data\\labelled_jobs\\job_23-2022_12_08_02_10_03-yolo 1.1\n",
      "Finished on .\\data\\labelled_jobs\\job_23-2022_12_08_02_10_03-yolo 1.1\n",
      "Working on .\\data\\labelled_jobs\\job_24-2022_12_09_15_15_46-yolo 1.1\n",
      "Finished on .\\data\\labelled_jobs\\job_24-2022_12_09_15_15_46-yolo 1.1\n",
      "Working on .\\data\\labelled_jobs\\job_25-2022_12_09_15_32_20-yolo 1.1\n",
      "Finished on .\\data\\labelled_jobs\\job_25-2022_12_09_15_32_20-yolo 1.1\n",
      "Working on .\\data\\labelled_jobs\\job_26-2022_12_09_18_29_56-yolo 1.1\n",
      "Finished on .\\data\\labelled_jobs\\job_26-2022_12_09_18_29_56-yolo 1.1\n",
      "Working on .\\data\\labelled_jobs\\job_27-2022_12_10_16_47_59-yolo 1.1\n",
      "Finished on .\\data\\labelled_jobs\\job_27-2022_12_10_16_47_59-yolo 1.1\n",
      "Working on .\\data\\labelled_jobs\\job_28-2022_12_11_19_15_58-yolo 1.1\n",
      "Finished on .\\data\\labelled_jobs\\job_28-2022_12_11_19_15_58-yolo 1.1\n",
      "Working on .\\data\\labelled_jobs\\job_29-2022_12_12_20_20_59-yolo 1.1\n",
      "Finished on .\\data\\labelled_jobs\\job_29-2022_12_12_20_20_59-yolo 1.1\n",
      "Working on .\\data\\labelled_jobs\\job_30-2022_12_13_19_51_12-yolo 1.1\n",
      "Finished on .\\data\\labelled_jobs\\job_30-2022_12_13_19_51_12-yolo 1.1\n",
      "Working on .\\data\\labelled_jobs\\job_31-2022_12_14_16_33_14-yolo 1.1\n",
      "Finished on .\\data\\labelled_jobs\\job_31-2022_12_14_16_33_14-yolo 1.1\n",
      "Working on .\\data\\labelled_jobs\\job_32-2022_12_14_16_58_22-yolo 1.1\n",
      "Finished on .\\data\\labelled_jobs\\job_32-2022_12_14_16_58_22-yolo 1.1\n"
     ]
    }
   ],
   "source": [
    "yaml = YAML()\n",
    "\n",
    "for labelled_data,img_path in job_image_path.items(): \n",
    "\n",
    "  print(f\"Working on {labelled_data}\")\n",
    "  #remove copy from filenames\n",
    "  base = join(labelled_data,\"obj_train_data\")\n",
    "  # for name in [f for f in listdir(base)]:\n",
    "  #   new_name = name[:-9] + \".txt\"\n",
    "  #   if \"copy\" in name.lower():\n",
    "  #     rename(join(base,name),join(base,new_name))\n",
    "\n",
    "\n",
    "  key_vals = {}\n",
    "  with open(join(labelled_data,\"obj.data\")) as myfile:\n",
    "      for line in myfile:\n",
    "          name, var = line.partition(\"=\")[::2]\n",
    "          key_vals[name.strip()] = var.strip()\n",
    "  classes = []\n",
    "  with open(join(labelled_data,\"obj.names\")) as myfile:\n",
    "      for line in myfile:\n",
    "        classes.append(line.strip())\n",
    "    \n",
    "  p = Path(labelled_data)\n",
    "  parent = p.parent.absolute()\n",
    "            \n",
    "  new_path = join(parent,join(parent,\"yolov5\",p.stem))\n",
    "  Path(new_path).mkdir(parents=True, exist_ok=False)\n",
    "\n",
    "  #make train/test/val split\n",
    "  def write_splits(split_name,filenames):\n",
    "    global labelled_data\n",
    "            \n",
    "    base = join(labelled_data,\"obj_train_data\")\n",
    "    \n",
    "    #make labels folder\n",
    "    for name in filenames:\n",
    "      name = name+\".txt\"\n",
    "            \n",
    "      Path(join(new_path,split_name,\"labels\")).mkdir(parents=True, exist_ok=True)\n",
    "      shutil.copy(join(base,name),join(new_path,split_name,\"labels\",name))\n",
    "\n",
    "    #Make images folder\n",
    "    for name in filenames:\n",
    "      name = name+ \".png\"\n",
    "      Path(join(new_path,split_name,\"images\")).mkdir(parents=True, exist_ok=True)\n",
    "      shutil.copy(join(img_path,name),join(new_path,split_name,\"images\",name))\n",
    "\n",
    "  \n",
    "  #make test train splits\n",
    "  base = join(labelled_data,\"obj_train_data\")\n",
    "  filenames = list(map(lambda x: x[:-4],listdir(base)))\n",
    "\n",
    "  train_val_split,test_split = train_test_split(filenames, test_size=test_per)\n",
    "  train_split, val_split = train_test_split(train_val_split,test_size=val_per)\n",
    "\n",
    "  write_splits(\"train\",train_split)\n",
    "  write_splits(\"valid\",val_split)\n",
    "  write_splits(\"test\",test_split)\n",
    "\n",
    "\n",
    "  #Write data.yaml\n",
    "  data = {\"nc\":int(key_vals[\"classes\"]),\n",
    "          \"names\":flist(classes), \n",
    "          \"train\": f\"./train/images\", \n",
    "          \"val\": f\"./valid/images\", \n",
    "          \"test\":f\"./test/images\"}\n",
    "\n",
    "  with open(join(new_path,\"data.yaml\"), 'w') as outfile:\n",
    "    yaml.dump(data, outfile)\n",
    "    \n",
    "  print(f\"Finished on {labelled_data}\")"
   ]
  },
  {
   "cell_type": "code",
   "execution_count": null,
   "metadata": {
    "id": "i-AxfALKww1U"
   },
   "outputs": [],
   "source": []
  },
  {
   "cell_type": "code",
   "execution_count": null,
   "metadata": {
    "id": "zcKtui8CxPgL"
   },
   "outputs": [],
   "source": []
  }
 ],
 "metadata": {
  "colab": {
   "provenance": []
  },
  "kernelspec": {
   "display_name": "Python 3 (ipykernel)",
   "language": "python",
   "name": "python3"
  },
  "language_info": {
   "codemirror_mode": {
    "name": "ipython",
    "version": 3
   },
   "file_extension": ".py",
   "mimetype": "text/x-python",
   "name": "python",
   "nbconvert_exporter": "python",
   "pygments_lexer": "ipython3",
   "version": "3.10.4"
  }
 },
 "nbformat": 4,
 "nbformat_minor": 4
}
