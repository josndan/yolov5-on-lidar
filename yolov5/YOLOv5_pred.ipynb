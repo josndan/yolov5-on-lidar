{
 "cells": [
  {
   "cell_type": "code",
   "execution_count": 3,
   "metadata": {
    "colab": {
     "base_uri": "https://localhost:8080/"
    },
    "id": "6cMGLwVFYTty",
    "outputId": "43b10704-9130-47ce-85bb-c9f3392a0466"
   },
   "outputs": [
    {
     "name": "stdout",
     "output_type": "stream",
     "text": [
      "Note: you may need to restart the kernel to use updated packages.\n"
     ]
    }
   ],
   "source": [
    "%pip install -qr requirements.txt"
   ]
  },
  {
   "cell_type": "code",
   "execution_count": 1,
   "metadata": {
    "colab": {
     "base_uri": "https://localhost:8080/"
    },
    "id": "kTvDNSILZoN9",
    "outputId": "05fd6054-f930-4e34-aec9-e3cb9bc214db"
   },
   "outputs": [
    {
     "name": "stderr",
     "output_type": "stream",
     "text": [
      "YOLOv5  2022-12-20 Python-3.10.4 torch-1.13.0+cpu CPU\n"
     ]
    },
    {
     "name": "stdout",
     "output_type": "stream",
     "text": [
      "Setup complete  (8 CPUs, 15.6 GB RAM, 3640.6/3726.0 GB disk)\n",
      "Setup complete. Using torch 1.13.0+cpu (CPU)\n"
     ]
    }
   ],
   "source": [
    "import torch\n",
    "import utils\n",
    "\n",
    "display = utils.notebook_init()  # checks\n",
    "print(f\"Setup complete. Using torch {torch.__version__} ({torch.cuda.get_device_properties(0).name if torch.cuda.is_available() else 'CPU'})\")"
   ]
  },
  {
   "cell_type": "code",
   "execution_count": 2,
   "metadata": {
    "id": "TWjjiBcic3Vz",
    "colab": {
     "base_uri": "https://localhost:8080/"
    },
    "outputId": "348aecfd-243c-4571-dae0-65f3544e6f70"
   },
   "outputs": [
    {
     "name": "stdout",
     "output_type": "stream",
     "text": [
      "^C\n"
     ]
    }
   ],
   "source": [
    "!python detect.py --weights .\\best.pt --img 1024 --conf 0.4 --source ..\\data\\from_car\\OS1-64_2022-11-21\\processed\\Section1\\2\\signal --hide-labels --project \"ouster-lidar\" --save-csv"
   ]
  },
  {
   "cell_type": "code",
   "execution_count": null,
   "metadata": {
    "id": "uYsvJoXwn603"
   },
   "outputs": [],
   "source": [
    "!python val.py --task test --data \"../../labeled_data/combined_job/data.yaml\" --weights ouster-lidar/exp40/weights/best.pt --img 559 --batch-size 391 --project \"ouster-lidar\" --conf-thres 0.1"
   ]
  }
 ],
 "metadata": {
  "accelerator": "GPU",
  "colab": {
   "provenance": []
  },
  "gpuClass": "premium",
  "kernelspec": {
   "name": "ra",
   "language": "python",
   "display_name": "RA"
  },
  "language_info": {
   "name": "python"
  }
 },
 "nbformat": 4,
 "nbformat_minor": 0
}
