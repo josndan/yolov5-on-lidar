{
 "cells": [
  {
   "cell_type": "code",
   "execution_count": 1,
   "metadata": {
    "colab": {
     "base_uri": "https://localhost:8080/"
    },
    "executionInfo": {
     "elapsed": 16053,
     "status": "ok",
     "timestamp": 1668292109394,
     "user": {
      "displayName": "Joseph Daniel Selvaraaj",
      "userId": "01267249207347429283"
     },
     "user_tz": 300
    },
    "id": "Otk6bk_RlBI2",
    "outputId": "c49d4412-17df-44ff-e330-eb7e1858a931"
   },
   "outputs": [
    {
     "name": "stdout",
     "output_type": "stream",
     "text": [
      "Mounted at /content/drive\n",
      "/content/drive/MyDrive/RA/robust_yolov5/yolov5\n"
     ]
    }
   ],
   "source": [
    "from google.colab import drive\n",
    "drive.mount('/content/drive')\n",
    "%cd drive/MyDrive/RA/robust_yolov5/yolov5\n",
    "\n",
    "%load_ext autoreload\n",
    "%autoreload 2"
   ]
  },
  {
   "cell_type": "code",
   "execution_count": 2,
   "metadata": {
    "colab": {
     "base_uri": "https://localhost:8080/"
    },
    "executionInfo": {
     "elapsed": 17337,
     "status": "ok",
     "timestamp": 1668292126723,
     "user": {
      "displayName": "Joseph Daniel Selvaraaj",
      "userId": "01267249207347429283"
     },
     "user_tz": 300
    },
    "id": "jRI-oZ59lFJ-",
    "outputId": "7f57d148-cdf2-4d9d-e734-162ef372b37e"
   },
   "outputs": [
    {
     "name": "stdout",
     "output_type": "stream",
     "text": [
      "\u001b[K     |████████████████████████████████| 1.6 MB 5.2 MB/s \n",
      "\u001b[K     |████████████████████████████████| 1.6 MB 47.4 MB/s \n",
      "\u001b[K     |████████████████████████████████| 615 kB 74.7 MB/s \n",
      "\u001b[?25h  Installing build dependencies ... \u001b[?25l\u001b[?25hdone\n",
      "  Getting requirements to build wheel ... \u001b[?25l\u001b[?25hdone\n",
      "    Preparing wheel metadata ... \u001b[?25l\u001b[?25hdone\n",
      "  Building wheel for laspy (PEP 517) ... \u001b[?25l\u001b[?25hdone\n"
     ]
    }
   ],
   "source": [
    "!pip install -qr requirements.txt "
   ]
  },
  {
   "cell_type": "code",
   "execution_count": 3,
   "metadata": {},
   "outputs": [
    {
     "name": "stdout",
     "output_type": "stream",
     "text": [
      "\u001b[30m\u001b[43m$RECYCLE.BIN\u001b[m\u001b[m                          \u001b[31m__init__.py\u001b[m\u001b[m\r\n",
      "\u001b[31mCopy of Copy of pcap_processing.ipynb\u001b[m\u001b[m \u001b[30m\u001b[43m__pycache__\u001b[m\u001b[m\r\n",
      "\u001b[30m\u001b[43mData_from_external_database\u001b[m\u001b[m           \u001b[30m\u001b[43mdata_to_pcd\u001b[m\u001b[m\r\n",
      "\u001b[30m\u001b[43mIgnore\u001b[m\u001b[m                                \u001b[31mpcap_processing.ipynb\u001b[m\u001b[m\r\n",
      "\u001b[30m\u001b[43mNew_Data\u001b[m\u001b[m                              \u001b[31mpcap_to_pcd.ipynb\u001b[m\u001b[m\r\n",
      "\u001b[30m\u001b[43mRA\u001b[m\u001b[m                                    \u001b[31mpcap_transformation.ipynb\u001b[m\u001b[m\r\n",
      "\u001b[30m\u001b[43mSBIR\u001b[m\u001b[m                                  \u001b[31mpcap_util.py\u001b[m\u001b[m\r\n",
      "\u001b[30m\u001b[43mSample_Data\u001b[m\u001b[m                           \u001b[30m\u001b[43mpcd\u001b[m\u001b[m\r\n",
      "\u001b[31mSplitCap.exe\u001b[m\u001b[m                          \u001b[31mrequirements.txt\u001b[m\u001b[m\r\n",
      "\u001b[30m\u001b[43mSystem Volume Information\u001b[m\u001b[m             \u001b[31mvideo.ipynb\u001b[m\u001b[m\r\n"
     ]
    }
   ],
   "source": []
  },
  {
   "cell_type": "code",
   "execution_count": 58,
   "metadata": {
    "executionInfo": {
     "elapsed": 602,
     "status": "ok",
     "timestamp": 1668292127317,
     "user": {
      "displayName": "Joseph Daniel Selvaraaj",
      "userId": "01267249207347429283"
     },
     "user_tz": 300
    },
    "id": "gE0M2pJ5JW8I"
   },
   "outputs": [],
   "source": [
    "from ouster import client\n",
    "from ouster import pcap\n",
    "from contextlib import closing\n",
    "from os import listdir\n",
    "import subprocess\n",
    "import os\n",
    "\n",
    "from tqdm import tqdm\n",
    "import cv2\n",
    "import numpy as np\n",
    "from joblib import Parallel, delayed"
   ]
  },
  {
   "cell_type": "code",
   "execution_count": 4,
   "metadata": {
    "colab": {
     "base_uri": "https://localhost:8080/"
    },
    "executionInfo": {
     "elapsed": 10,
     "status": "ok",
     "timestamp": 1668292127318,
     "user": {
      "displayName": "Joseph Daniel Selvaraaj",
      "userId": "01267249207347429283"
     },
     "user_tz": 300
    },
    "id": "cWzXsu_jSOtD",
    "outputId": "416f7ab7-0c91-4800-e100-abb502e729ad"
   },
   "outputs": [
    {
     "name": "stdout",
     "output_type": "stream",
     "text": [
      "Populating the interactive namespace from numpy and matplotlib\n"
     ]
    }
   ],
   "source": [
    "%pylab inline\n",
    "import matplotlib.pyplot as plt"
   ]
  },
  {
   "cell_type": "code",
   "execution_count": null,
   "metadata": {
    "id": "j_oz6njslVVu"
   },
   "outputs": [],
   "source": [
    "def transform_pcap(meta_path,file_path,save_path):\n",
    "\n",
    "  with open(meta_path, 'r') as f:\n",
    "    metadata = client.SensorInfo(f.read())\n",
    "\n",
    "  pcap_file = pcap.Pcap(file_path, metadata)\n",
    "\n",
    "  fps = int(str(metadata.mode)[-2:])\n",
    "  width = int(str(metadata.mode)[:4])\n",
    "  height = int(str(metadata.prod_line)[5:])\n",
    "\n",
    "  left_clip = 190\n",
    "  right_clip = 275\n",
    "\n",
    "  width -= left_clip + right_clip\n",
    "\n",
    "  with closing(client.Scans(pcap_file)) as scans:\n",
    "\n",
    "    vid_writer_sig = cv2.VideoWriter(save_path+\"_signal.avi\", cv2.VideoWriter_fourcc(*\"RGBA\"), fps, (width, height))\n",
    "    vid_writer_range = cv2.VideoWriter(save_path+\"_range.avi\", cv2.VideoWriter_fourcc(*\"RGBA\") , fps, (width, height))\n",
    "    vid_writer_ref = cv2.VideoWriter(save_path+\"_reflectivity.avi\", cv2.VideoWriter_fourcc(*\"RGBA\"), fps, (width, height))\n",
    "    vid_writer_nir = cv2.VideoWriter(save_path+\"_near_ir.avi\", cv2.VideoWriter_fourcc(*\"RGBA\") , fps, (width, height))\n",
    "\n",
    "\n",
    "    for scan in tqdm(scans, position=0, leave=True):\n",
    "\n",
    "      ref_field = scan.field(client.ChanField.REFLECTIVITY)\n",
    "      ref_val = client.destagger(pcap_file.metadata, ref_field)\n",
    "      ref_img = ref_val.astype(np.uint8)[:,left_clip:-right_clip]\n",
    "\n",
    "      sig_field = scan.field(client.ChanField.SIGNAL)\n",
    "      sig_val = client.destagger(pcap_file.metadata, sig_field)\n",
    "      sig_img = sig_val.astype(np.uint8)[:,left_clip:-right_clip]\n",
    "\n",
    "      ir_field = scan.field(client.ChanField.NEAR_IR)\n",
    "      ir_val = client.destagger(pcap_file.metadata, ir_field)\n",
    "      ir_img = ir_val.astype(np.uint8)[:,left_clip:-right_clip]\n",
    "\n",
    "      range_field = scan.field(client.ChanField.RANGE)\n",
    "      range_val = client.destagger(pcap_file.metadata, range_field)\n",
    "      range_img = range_val.astype(np.uint8)[:,left_clip:-right_clip]\n",
    "      \n",
    "      sig_img = np.dstack((sig_img, sig_img, sig_img))\n",
    "      range_img = np.dstack((range_img, range_img, range_img))\n",
    "      ref_img = np.dstack((ref_img, ref_img, ref_img))\n",
    "      ir_img = np.dstack((ir_img, ir_img, ir_img))\n",
    "      \n",
    "      vid_writer_sig.write(sig_img)    \n",
    "      vid_writer_range.write(range_img)\n",
    "      vid_writer_ref.write(ref_img)    \n",
    "      vid_writer_nir.write(ir_img)\n",
    "\n",
    "    vid_writer_sig.release()\n",
    "    vid_writer_range.release()\n",
    "    vid_writer_ref.release()\n",
    "    vid_writer_nir.release()\n",
    "    cv2.destroyAllWindows()\n"
   ]
  },
  {
   "cell_type": "code",
   "execution_count": 86,
   "metadata": {
    "id": "jFIDHeoFYJFB"
   },
   "outputs": [],
   "source": [
    "prefix = \"../../data/\"\n",
    "dates = {\"SBIR_2022-10-08\\\\\":(24,30),\"SBIR_2022-10-07\\\\\":(15,20),\"SBIR_2022-09-24\\\\\":(1,18),\"SBIR_2022-10-06\\\\\":(1,14),\"SBIR_2022-10-21\\\\\":(37,40),\"SBIR_2022-10-22\\\\\":(41,53),\"SBIR_2022-10-20\\\\\":(33,36)}"
   ]
  },
  {
   "cell_type": "code",
   "execution_count": null,
   "metadata": {
    "id": "I_1Z8__tYite"
   },
   "outputs": [],
   "source": [
    "for date in dates:\n",
    "  meta_path = prefix + date + \"meta.json\"\n",
    "  print(f\"In {date}\")\n",
    "  for i in range(1,dates[date]+1):\n",
    "\n",
    "    pcap_path = prefix + date + str(i) + \".pcap\"\n",
    "\n",
    "    save_path = prefix + date + str(i)\n",
    "\n",
    "    print(f\"Processing {pcap_path}\")\n",
    "\n",
    "    transform_pcap(meta_path,pcap_path,save_path)"
   ]
  },
  {
   "cell_type": "code",
   "execution_count": null,
   "metadata": {
    "id": "ptDonpLkaoBd"
   },
   "outputs": [],
   "source": [
    "def process_given_date(date,val):\n",
    "  prefix = \"../../new_data/\" + date + f\"{val}/\"\n",
    "\n",
    "  files = [f for f in listdir(prefix)]\n",
    "\n",
    "  meta_path = prefix + files[0][:-5] + \".json\"\n",
    "  \n",
    "  pcap_path = prefix + files[0][:-5] + \".pcap\"\n",
    "\n",
    "  save_path = prefix + files[0][:-5]\n",
    "\n",
    "  print(f\"Started {prefix}...\")\n",
    "\n",
    "  # transform_pcap(meta_path,pcap_path,save_path)\n",
    "\n",
    "  subprocess.run([\"tcpdump\", \"-r\", pcap_path, \"-w\", \"small_file.pcap\", \"-C\", \"2000\"])\n",
    "\n",
    "  print(f\"Finished {prefix}...\")\n",
    "  \n",
    "  # for i in range(1,val+1):\n",
    "\n",
    "  #   pcap_path = prefix + date + str(i) + \".pcap\"\n",
    "\n",
    "  #   save_path = prefix + date + str(i)\n",
    "\n",
    "  #   print(f\"Processing {pcap_path}\")\n",
    "\n",
    "  #   transform_pcap(meta_path,pcap_path,save_path)"
   ]
  },
  {
   "cell_type": "code",
   "execution_count": null,
   "metadata": {
    "id": "cYvIXi6qa5es"
   },
   "outputs": [],
   "source": []
  },
  {
   "cell_type": "code",
   "execution_count": null,
   "metadata": {
    "id": "lTcuNCz6j1-h"
   },
   "outputs": [],
   "source": [
    "date = \"SBIR_2022-09-24/\"\n",
    "start,end = dates[date]"
   ]
  },
  {
   "cell_type": "code",
   "execution_count": null,
   "metadata": {
    "id": "jQ6CX1rWrrUb"
   },
   "outputs": [],
   "source": [
    "process_given_date(date,1)"
   ]
  },
  {
   "cell_type": "code",
   "execution_count": null,
   "metadata": {
    "id": "qpcg9BF-a7I8"
   },
   "outputs": [],
   "source": [
    "Parallel(n_jobs=4, prefer=\"threads\")(delayed(process_given_date)(date,val) for val in range(start,end+1))"
   ]
  },
  {
   "cell_type": "code",
   "execution_count": null,
   "metadata": {
    "colab": {
     "base_uri": "https://localhost:8080/"
    },
    "executionInfo": {
     "elapsed": 45766,
     "status": "ok",
     "timestamp": 1668286950313,
     "user": {
      "displayName": "Joseph Daniel Selvaraaj",
      "userId": "01267249207347429283"
     },
     "user_tz": 300
    },
    "id": "2QOYBzvpPRa3",
    "outputId": "9ef11899-dd06-4f32-c14f-8d714f7737c2"
   },
   "outputs": [
    {
     "name": "stderr",
     "output_type": "stream",
     "text": [
      "1255it [00:45, 27.62it/s]\n"
     ]
    }
   ],
   "source": [
    "transform_pcap(\"../../data/14_31/meta.json\",\"../../data/14_31/1.pcap\",\"./transformed/1\")"
   ]
  },
  {
   "cell_type": "code",
   "execution_count": 6,
   "metadata": {
    "colab": {
     "base_uri": "https://localhost:8080/"
    },
    "executionInfo": {
     "elapsed": 18839,
     "status": "ok",
     "timestamp": 1668292157309,
     "user": {
      "displayName": "Joseph Daniel Selvaraaj",
      "userId": "01267249207347429283"
     },
     "user_tz": 300
    },
    "id": "6E7qLmn5oy5_",
    "outputId": "a83aeee1-43bc-453b-a7ca-9b7f26b67a21"
   },
   "outputs": [
    {
     "name": "stdout",
     "output_type": "stream",
     "text": [
      "Get:1 http://security.ubuntu.com/ubuntu bionic-security InRelease [88.7 kB]\n",
      "Get:2 https://cloud.r-project.org/bin/linux/ubuntu bionic-cran40/ InRelease [3,626 B]\n",
      "Hit:3 http://archive.ubuntu.com/ubuntu bionic InRelease\n",
      "Get:4 http://archive.ubuntu.com/ubuntu bionic-updates InRelease [88.7 kB]\n",
      "Get:5 http://ppa.launchpad.net/c2d4u.team/c2d4u4.0+/ubuntu bionic InRelease [15.9 kB]\n",
      "Get:6 http://archive.ubuntu.com/ubuntu bionic-backports InRelease [83.3 kB]\n",
      "Ign:7 https://developer.download.nvidia.com/compute/machine-learning/repos/ubuntu1804/x86_64  InRelease\n",
      "Hit:8 https://developer.download.nvidia.com/compute/cuda/repos/ubuntu1804/x86_64  InRelease\n",
      "Hit:9 https://developer.download.nvidia.com/compute/machine-learning/repos/ubuntu1804/x86_64  Release\n",
      "Hit:10 http://ppa.launchpad.net/cran/libgit2/ubuntu bionic InRelease\n",
      "Hit:11 http://ppa.launchpad.net/deadsnakes/ppa/ubuntu bionic InRelease\n",
      "Hit:12 http://ppa.launchpad.net/graphics-drivers/ppa/ubuntu bionic InRelease\n",
      "Get:13 http://security.ubuntu.com/ubuntu bionic-security/universe amd64 Packages [1,554 kB]\n",
      "Get:14 http://security.ubuntu.com/ubuntu bionic-security/main amd64 Packages [3,040 kB]\n",
      "Get:15 http://archive.ubuntu.com/ubuntu bionic-updates/universe amd64 Packages [2,332 kB]\n",
      "Get:16 http://archive.ubuntu.com/ubuntu bionic-updates/main amd64 Packages [3,472 kB]\n",
      "Get:17 http://ppa.launchpad.net/c2d4u.team/c2d4u4.0+/ubuntu bionic/main Sources [2,215 kB]\n",
      "Get:19 http://ppa.launchpad.net/c2d4u.team/c2d4u4.0+/ubuntu bionic/main amd64 Packages [1,133 kB]\n",
      "Fetched 14.0 MB in 4s (3,438 kB/s)\n",
      "Reading package lists... Done\n",
      "Reading package lists... Done\n",
      "Building dependency tree       \n",
      "Reading state information... Done\n",
      "The following package was automatically installed and is no longer required:\n",
      "  libnvidia-common-460\n",
      "Use 'apt autoremove' to remove it.\n",
      "The following additional packages will be installed:\n",
      "  libpcap0.8\n",
      "Suggested packages:\n",
      "  apparmor\n",
      "The following NEW packages will be installed:\n",
      "  libpcap0.8 tcpdump\n",
      "0 upgraded, 2 newly installed, 0 to remove and 6 not upgraded.\n",
      "Need to get 482 kB of archives.\n",
      "After this operation, 1,408 kB of additional disk space will be used.\n",
      "Get:1 http://archive.ubuntu.com/ubuntu bionic-updates/main amd64 libpcap0.8 amd64 1.8.1-6ubuntu1.18.04.2 [118 kB]\n",
      "Get:2 http://archive.ubuntu.com/ubuntu bionic-updates/main amd64 tcpdump amd64 4.9.3-0ubuntu0.18.04.2 [364 kB]\n",
      "Fetched 482 kB in 0s (1,802 kB/s)\n",
      "Selecting previously unselected package libpcap0.8:amd64.\n",
      "(Reading database ... 123942 files and directories currently installed.)\n",
      "Preparing to unpack .../libpcap0.8_1.8.1-6ubuntu1.18.04.2_amd64.deb ...\n",
      "Unpacking libpcap0.8:amd64 (1.8.1-6ubuntu1.18.04.2) ...\n",
      "Selecting previously unselected package tcpdump.\n",
      "Preparing to unpack .../tcpdump_4.9.3-0ubuntu0.18.04.2_amd64.deb ...\n",
      "Unpacking tcpdump (4.9.3-0ubuntu0.18.04.2) ...\n",
      "Setting up libpcap0.8:amd64 (1.8.1-6ubuntu1.18.04.2) ...\n",
      "Setting up tcpdump (4.9.3-0ubuntu0.18.04.2) ...\n",
      "Processing triggers for man-db (2.8.3-2ubuntu0.1) ...\n",
      "Processing triggers for libc-bin (2.27-3ubuntu1.6) ...\n"
     ]
    }
   ],
   "source": [
    "!apt-get update\n",
    "!apt install tcpdump"
   ]
  },
  {
   "cell_type": "code",
   "execution_count": 7,
   "metadata": {
    "executionInfo": {
     "elapsed": 14,
     "status": "ok",
     "timestamp": 1668292157309,
     "user": {
      "displayName": "Joseph Daniel Selvaraaj",
      "userId": "01267249207347429283"
     },
     "user_tz": 300
    },
    "id": "WCDvYir2sETC"
   },
   "outputs": [],
   "source": [
    "def break_up_pcap(date,val):\n",
    "  prefix = \"../../new_data/\" + date + f\"{val}/\"\n",
    "\n",
    "  files = [f for f in listdir(prefix)]\n",
    "\n",
    "  meta_path = prefix + files[0][:-5] + \".json\"\n",
    "  \n",
    "  pcap_path = prefix + files[0][:-5] + \".pcap\"\n",
    "\n",
    "  save_path = prefix + files[0][:-5]\n",
    "\n",
    "  print(f\"Started {pcap_path}...\")\n",
    "\n",
    "  # transform_pcap(meta_path,pcap_path,save_path)\n",
    "\n",
    "  subprocess.run([\"tcpdump\", \"-r\", pcap_path, \"-w\", f\"{prefix}small_file.pcap\", \"-C\", \"2000\"])\n",
    "\n",
    "  print(f\"Finished {prefix}...\")\n",
    "  \n",
    "  # for i in range(1,val+1):\n",
    "\n",
    "  #   pcap_path = prefix + date + str(i) + \".pcap\"\n",
    "\n",
    "  #   save_path = prefix + date + str(i)\n",
    "\n",
    "  #   print(f\"Processing {pcap_path}\")\n",
    "\n",
    "  #   transform_pcap(meta_path,pcap_path,save_path)"
   ]
  },
  {
   "cell_type": "code",
   "execution_count": 89,
   "metadata": {
    "executionInfo": {
     "elapsed": 14,
     "status": "ok",
     "timestamp": 1668292157310,
     "user": {
      "displayName": "Joseph Daniel Selvaraaj",
      "userId": "01267249207347429283"
     },
     "user_tz": 300
    },
    "id": "XD7PoaXIsbQC"
   },
   "outputs": [],
   "source": [
    "date = \"SBIR_2022-10-20\\\\\""
   ]
  },
  {
   "cell_type": "code",
   "execution_count": null,
   "metadata": {
    "colab": {
     "base_uri": "https://localhost:8080/"
    },
    "executionInfo": {
     "elapsed": 12093,
     "status": "ok",
     "timestamp": 1668287865137,
     "user": {
      "displayName": "Joseph Daniel Selvaraaj",
      "userId": "01267249207347429283"
     },
     "user_tz": 300
    },
    "id": "o7qtiweCsK4x",
    "outputId": "a45e0803-6b57-49c4-f6e1-d035ea74ea5b"
   },
   "outputs": [
    {
     "name": "stdout",
     "output_type": "stream",
     "text": [
      "Started ../../new_data/SBIR_2022-09-24/1/2022-09-21-09-27-45_OS-0-128-992133001099-1024x10.pcap...\n",
      "Finished ../../new_data/SBIR_2022-09-24/1/...\n"
     ]
    }
   ],
   "source": [
    "break_up_pcap(date,1)"
   ]
  },
  {
   "cell_type": "code",
   "execution_count": 9,
   "metadata": {
    "colab": {
     "base_uri": "https://localhost:8080/"
    },
    "executionInfo": {
     "elapsed": 1246147,
     "status": "ok",
     "timestamp": 1668293403443,
     "user": {
      "displayName": "Joseph Daniel Selvaraaj",
      "userId": "01267249207347429283"
     },
     "user_tz": 300
    },
    "id": "PEgQim_Qsbv5",
    "outputId": "c035a596-2715-4f8a-ee89-49eacdb75964"
   },
   "outputs": [
    {
     "name": "stdout",
     "output_type": "stream",
     "text": [
      "Started ../../new_data/SBIR_2022-09-24/18/2022-09-24-17-09-20_OS-0-128-992133001099-1024x10.pcap...\n",
      "Started ../../new_data/SBIR_2022-09-24/17/2022-09-24-16-28-34_OS-0-128-992133001099-1024x10.pcap...\n",
      "Finished ../../new_data/SBIR_2022-09-24/18/...\n",
      "Finished ../../new_data/SBIR_2022-09-24/17/...\n"
     ]
    },
    {
     "data": {
      "text/plain": [
       "[None, None]"
      ]
     },
     "execution_count": 9,
     "metadata": {},
     "output_type": "execute_result"
    }
   ],
   "source": [
    "Parallel(n_jobs=2, prefer=\"threads\")(delayed(break_up_pcap)(date,val)for val in [17,18]) #+list(range(14,19))"
   ]
  },
  {
   "cell_type": "code",
   "execution_count": 63,
   "metadata": {
    "id": "_SWQ1sBP9Asd"
   },
   "outputs": [],
   "source": [
    "def rename_pcap(date,val):\n",
    "  prefix = \"D:\\\\SBIR\\\\\" + date + f\"{val}\\\\small_files\\\\\"\n",
    "\n",
    "  files = [f for f in listdir(prefix)]\n",
    "  \n",
    "  files = sorted(files,key = lambda e : int(e[e.find(\"Seconds_\")+8:-5]) )\n",
    "  \n",
    "  print(f\"Started {date}\\{val}\")\n",
    "  for i,e in enumerate(files):\n",
    "    renamed = f\"{i+1}.pcap\"\n",
    "    # print(\"ren\", prefix + e, prefix + renamed)\n",
    "    os.rename(prefix + e, prefix + renamed)\n",
    "  print(f\"Finished {date}\\{val}\")"
   ]
  },
  {
   "cell_type": "code",
   "execution_count": 62,
   "metadata": {},
   "outputs": [],
   "source": [
    "rename_pcap(date,1)"
   ]
  },
  {
   "cell_type": "code",
   "execution_count": 90,
   "metadata": {},
   "outputs": [
    {
     "name": "stdout",
     "output_type": "stream",
     "text": [
      "Started SBIR_2022-10-20\\\\34\n",
      "Started SBIR_2022-10-20\\\\33\n",
      "Finished SBIR_2022-10-20\\\\34\n",
      "Started SBIR_2022-10-20\\\\35\n",
      "Finished SBIR_2022-10-20\\\\33\n",
      "Started SBIR_2022-10-20\\\\36\n",
      "Finished SBIR_2022-10-20\\\\36\n",
      "Finished SBIR_2022-10-20\\\\35\n"
     ]
    },
    {
     "data": {
      "text/plain": [
       "[None, None, None, None]"
      ]
     },
     "execution_count": 90,
     "metadata": {},
     "output_type": "execute_result"
    }
   ],
   "source": [
    "Parallel(n_jobs=2, prefer=\"threads\")(delayed(rename_pcap)(date,val)for val in range(dates[date][0],dates[date][1]+1)) #range(dates[date][0],dates[date][1]+1)"
   ]
  },
  {
   "cell_type": "code",
   "execution_count": null,
   "metadata": {},
   "outputs": [],
   "source": []
  },
  {
   "cell_type": "code",
   "execution_count": 36,
   "metadata": {},
   "outputs": [
    {
     "name": "stdout",
     "output_type": "stream",
     "text": [
      " Volume in drive D is Raw\n",
      " Volume Serial Number is FCF1-1398\n",
      "\n",
      " Directory of D:\\\n",
      "\n",
      "11/12/2022  07:01 PM    <DIR>          .ipynb_checkpoints\n",
      "11/10/2022  01:43 PM    <DIR>          .Trash-1000\n",
      "11/12/2022  09:14 PM            30,553 Copy of Copy of pcap_processing.ipynb\n",
      "11/12/2022  02:47 PM            16,195 Copy of pcap_processing.ipynb\n",
      "11/12/2022  09:14 PM            14,319 pcap_processing.ipynb\n",
      "11/12/2022  07:16 PM             1,336 requirements.txt\n",
      "11/10/2022  01:55 PM    <DIR>          SBIR\n",
      "11/12/2022  08:04 PM           512,696 SplitCap.exe\n",
      "               5 File(s)        575,099 bytes\n",
      "               3 Dir(s)  2,566,437,994,496 bytes free\n"
     ]
    }
   ],
   "source": [
    "%ls"
   ]
  },
  {
   "cell_type": "code",
   "execution_count": null,
   "metadata": {},
   "outputs": [],
   "source": []
  }
 ],
 "metadata": {
  "colab": {
   "authorship_tag": "ABX9TyO/xh1FdKa4bo7gO2lFOEH8",
   "collapsed_sections": [],
   "provenance": []
  },
  "kernelspec": {
   "display_name": "Python 3 (ipykernel)",
   "language": "python",
   "name": "python3"
  },
  "language_info": {
   "codemirror_mode": {
    "name": "ipython",
    "version": 3
   },
   "file_extension": ".py",
   "mimetype": "text/x-python",
   "name": "python",
   "nbconvert_exporter": "python",
   "pygments_lexer": "ipython3",
   "version": "3.9.15"
  }
 },
 "nbformat": 4,
 "nbformat_minor": 4
}
