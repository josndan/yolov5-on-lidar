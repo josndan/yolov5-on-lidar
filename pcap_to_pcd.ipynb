{
 "cells": [
  {
   "cell_type": "code",
   "execution_count": 1,
   "id": "055e1edf-1fef-4868-a87b-0f10a392a3d8",
   "metadata": {},
   "outputs": [],
   "source": [
    "from ouster import client\n",
    "from ouster import pcap\n",
    "import numpy as np\n",
    "\n",
    "from os.path import join\n",
    "from pathlib import Path"
   ]
  },
  {
   "cell_type": "code",
   "execution_count": 2,
   "id": "da8c70f6-a97c-4898-ae4c-a74081b67937",
   "metadata": {},
   "outputs": [],
   "source": [
    "def pcap_to_pcd(pcap_path,meta_path,out_path):\n",
    "    with open(meta_path, 'r') as f:\n",
    "        metadata = client.SensorInfo(f.read())\n",
    "    \n",
    "    Path(out_path).mkdir(parents=True,exist_ok=True)\n",
    "    \n",
    "    source = pcap.Pcap(pcap_path, metadata)\n",
    "    xyzlut = client.XYZLut(metadata) \n",
    "    \n",
    "    scans = iter(client.Scans(source))\n",
    "    \n",
    "    for i,scan in enumerate(scans):\n",
    "        \n",
    "        intensity = scan.field(client.ChanField.SIGNAL) \n",
    "        \n",
    "        xyz = xyzlut(intensity)    \n",
    "        \n",
    "        pcd_bin_arr = np.concatenate((xyz,intensity[:,:,None]),axis=2,dtype=np.float32)      \n",
    "        \n",
    "        pcd_bin_arr.tofile(join(out_path,f\"{i:06d}.bin\"))       \n"
   ]
  },
  {
   "cell_type": "code",
   "execution_count": 3,
   "id": "a5bf087f-0e3a-478f-8491-7902c9d9262b",
   "metadata": {},
   "outputs": [],
   "source": [
    "base = r\"D:\\RA\\OS1-64_2022-11-16\\OS1-64_2022-11-16\\Section1\\split_files\""
   ]
  },
  {
   "cell_type": "code",
   "execution_count": 11,
   "id": "a5792db5-f49e-4ae9-aa39-c59be61b3622",
   "metadata": {},
   "outputs": [],
   "source": [
    "pcap_path = join(base,\"3.pcap\")"
   ]
  },
  {
   "cell_type": "code",
   "execution_count": 5,
   "id": "63153cdb-3f8f-453b-a84f-d471e7a83e77",
   "metadata": {},
   "outputs": [],
   "source": [
    "meta_path = join(base,\"meta.json\")"
   ]
  },
  {
   "cell_type": "code",
   "execution_count": 12,
   "id": "1e698b7b-8d1a-4939-b29f-029c79c76d0d",
   "metadata": {},
   "outputs": [],
   "source": [
    "out_path = join(\".\",r\"pcd\\OS1-64_2022-11-16\\OS1-64_2022-11-16\\Section1\\3\")"
   ]
  },
  {
   "cell_type": "code",
   "execution_count": 13,
   "id": "f9baebdc-9d96-4c52-9a08-19a90899c1bf",
   "metadata": {},
   "outputs": [
    {
     "data": {
      "text/plain": [
       "'.\\\\pcd\\\\OS1-64_2022-11-16\\\\OS1-64_2022-11-16\\\\Section1\\\\3'"
      ]
     },
     "execution_count": 13,
     "metadata": {},
     "output_type": "execute_result"
    }
   ],
   "source": [
    "out_path"
   ]
  },
  {
   "cell_type": "code",
   "execution_count": 14,
   "id": "19a60120-56e5-4460-8831-a7029872ac64",
   "metadata": {},
   "outputs": [],
   "source": [
    "pcap_to_pcd(pcap_path,meta_path,out_path)"
   ]
  },
  {
   "cell_type": "code",
   "execution_count": null,
   "id": "654e8af6-9694-47f7-b6ba-346cb1408f13",
   "metadata": {},
   "outputs": [],
   "source": []
  }
 ],
 "metadata": {
  "kernelspec": {
   "display_name": "Python 3 (ipykernel)",
   "language": "python",
   "name": "python3"
  },
  "language_info": {
   "codemirror_mode": {
    "name": "ipython",
    "version": 3
   },
   "file_extension": ".py",
   "mimetype": "text/x-python",
   "name": "python",
   "nbconvert_exporter": "python",
   "pygments_lexer": "ipython3",
   "version": "3.10.4"
  }
 },
 "nbformat": 4,
 "nbformat_minor": 5
}
