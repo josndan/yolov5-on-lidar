{
 "cells": [
  {
   "cell_type": "code",
   "execution_count": null,
   "metadata": {
    "colab": {
     "base_uri": "https://localhost:8080/"
    },
    "executionInfo": {
     "elapsed": 15900,
     "status": "ok",
     "timestamp": 1668288316627,
     "user": {
      "displayName": "Joseph Daniel Selvaraaj",
      "userId": "01267249207347429283"
     },
     "user_tz": 300
    },
    "id": "jRI-oZ59lFJ-",
    "outputId": "c05c7c2e-6dbf-4891-c71c-cee9d5d77a41",
    "tags": []
   },
   "outputs": [],
   "source": [
    "%pip install -qr requirements.txt"
   ]
  },
  {
   "cell_type": "code",
   "execution_count": 23,
   "metadata": {
    "id": "gE0M2pJ5JW8I",
    "tags": []
   },
   "outputs": [],
   "source": [
    "from ouster import client\n",
    "from ouster import pcap\n",
    "from contextlib import closing\n",
    "from os import listdir\n",
    "from os.path import join, isdir, abspath\n",
    "from pathlib import Path\n",
    "import subprocess\n",
    "import shutil\n",
    "\n",
    "from tqdm import tqdm\n",
    "import cv2\n",
    "import numpy as np\n",
    "from joblib import Parallel, delayed"
   ]
  },
  {
   "cell_type": "code",
   "execution_count": 24,
   "metadata": {},
   "outputs": [],
   "source": [
    "new_folder_name = \"split_files\" #Must Match the name in rename_pcap notebook"
   ]
  },
  {
   "cell_type": "code",
   "execution_count": 33,
   "metadata": {},
   "outputs": [],
   "source": [
    "def parallel_dir_break_up(base,break_up_fun):\n",
    "    \n",
    "    all_pcap_files = []\n",
    "    all_meta_files = []\n",
    "    all_save_paths = []\n",
    "\n",
    "    def recurse_get_pcap_files(base,base_save_path=None):\n",
    "        \n",
    "        nonlocal all_pcap_files, all_meta_files, all_save_paths\n",
    "        \n",
    "        if base_save_path is None:\n",
    "            base_save_path = join(abspath(base),\"modified\")\n",
    "\n",
    "        files = listdir(base)\n",
    "\n",
    "        directories = list(filter(lambda x: isdir(join(base,x)),files))\n",
    "\n",
    "        pcap_files = list(map(lambda x: join(base,x),filter(lambda x: x.endswith(\".pcap\"),files)))\n",
    "\n",
    "        meta_files = map(lambda x: str(Path(x).with_suffix(\".json\").resolve()),pcap_files)\n",
    "        \n",
    "        all_pcap_files.extend(pcap_files)\n",
    "        all_meta_files.extend(meta_files)\n",
    "        \n",
    "        temp_save_paths = []\n",
    "        \n",
    "        for pcap in pcap_files:\n",
    "            p = join(base_save_path,Path(pcap).stem,new_folder_name)\n",
    "            \n",
    "            Path(p).mkdir(parents=True,exist_ok=True)\n",
    "            \n",
    "            temp_save_paths.append(p)\n",
    "        \n",
    "        all_save_paths.extend(temp_save_paths)\n",
    "\n",
    "        for directory in directories:\n",
    "            recurse_get_pcap_files(join(base,directory),join(base_save_path,directory))\n",
    "    \n",
    "    recurse_get_pcap_files(base)\n",
    "\n",
    "    if all_pcap_files:\n",
    "        Parallel(n_jobs=4, prefer=\"threads\")(delayed(break_up_fun)(pcap,meta,save_path)for pcap,meta,save_path in zip(all_pcap_files,all_meta_files,all_save_paths))\n"
   ]
  },
  {
   "cell_type": "code",
   "execution_count": 34,
   "metadata": {},
   "outputs": [],
   "source": [
    "def break_up_pcap_windows(pcap,meta,save_path):\n",
    "  print(f\"Started {pcap}...\")\n",
    "\n",
    "  # print(join(save_path,Path(pcap).stem,\"split_files\"))\n",
    "  \n",
    "  shutil.copyfile(meta,join(save_path,\"meta.json\"))\n",
    "    \n",
    "  subprocess.run([\"SplitCap.exe\", \"-r\", pcap, \"-o\", save_path, \"-s\", \"seconds\",\"360\",\"-b\",\"100000\"])\n",
    "\n",
    "  #subprocess.run([\"tcpdump\", \"-r\", pcap, \"-w\", join(save_path,\"small.pcap\"), \"-C\", \"2000\"])\n",
    "    \n",
    "  print(f\"Finished {pcap}...\")\n",
    "  "
   ]
  },
  {
   "cell_type": "code",
   "execution_count": 35,
   "metadata": {},
   "outputs": [
    {
     "name": "stdout",
     "output_type": "stream",
     "text": [
      "Started .\\data\\New_Data\\OS1-64_2022-11-21\\OS1-64_2022-11-21\\Section1\\2022-11-21-08-14-55_OS-1-64-122225003356-1024x20.pcap...\n",
      "Started .\\data\\New_Data\\OS1-64_2022-11-21\\OS1-64_2022-11-21\\Section2\\2022-11-21-08-44-40_OS-1-64-122225003356-1024x20.pcap...\n",
      "Started .\\data\\New_Data\\OS1-64_2022-11-21\\OS1-64_2022-11-21\\Section3\\2022-11-21-17-25-12_OS-1-64-122225003356-1024x20.pcap...\n",
      "Finished .\\data\\New_Data\\OS1-64_2022-11-21\\OS1-64_2022-11-21\\Section2\\2022-11-21-08-44-40_OS-1-64-122225003356-1024x20.pcap...\n",
      "Finished .\\data\\New_Data\\OS1-64_2022-11-21\\OS1-64_2022-11-21\\Section1\\2022-11-21-08-14-55_OS-1-64-122225003356-1024x20.pcap...\n",
      "Finished .\\data\\New_Data\\OS1-64_2022-11-21\\OS1-64_2022-11-21\\Section3\\2022-11-21-17-25-12_OS-1-64-122225003356-1024x20.pcap...\n"
     ]
    }
   ],
   "source": [
    "parallel_dir_break_up(join(\".\",\"data\",\"New_Data\",\"OS1-64_2022-11-21\"),break_up_pcap_windows)"
   ]
  },
  {
   "cell_type": "code",
   "execution_count": null,
   "metadata": {},
   "outputs": [],
   "source": [
    "def recurse_break_up(base,break_up_fun,save_path=None):\n",
    "    \n",
    "    if save_path is None:\n",
    "        save_path = join(abspath(base),\"modified\")\n",
    "    \n",
    "    files = listdir(base)\n",
    "    \n",
    "    directories = list(filter(lambda x: isdir(join(base,x)),files))\n",
    "    \n",
    "    pcap_files = list(filter(lambda x: x.endswith(\".pcap\"),files))\n",
    "    \n",
    "    meta_files = map(lambda x: str(Path(x).with_suffix(\".json\")),pcap_files)\n",
    "    \n",
    "    if pcap_files:\n",
    "        print(f\"Started {pcap_files}\")\n",
    "        Path(save_path).mkdir(parents=True,exist_ok=True)\n",
    "        Parallel(n_jobs=4, prefer=\"threads\")(delayed(break_up_fun)(join(base,pcap),join(base,meta),join(save_path,Path(pcap).stem,new_folder_name) )for pcap,meta in zip(pcap_files,meta_files))\n",
    "        print(f\"Finished {pcap_files}\")\n",
    "        \n",
    "    for directory in directories:\n",
    "        recurse_break_up(join(base,directory),break_up_fun,join(save_path,directory))"
   ]
  },
  {
   "cell_type": "code",
   "execution_count": null,
   "metadata": {},
   "outputs": [],
   "source": [
    "recurse_break_up(join(\".\",\"data\",\"New_Data\",\"OS1-64_2022-11-21\"),break_up_pcap_windows)"
   ]
  },
  {
   "cell_type": "code",
   "execution_count": null,
   "metadata": {
    "id": "jFIDHeoFYJFB",
    "tags": []
   },
   "outputs": [],
   "source": [
    "prefix = \"../../data/\"\n",
    "dates = {\"SBIR_2022-10-08\\\\\":(24,30),\"SBIR_2022-10-07\\\\\":(15,20),\"SBIR_2022-09-24\\\\\":(1,18),\"SBIR_2022-10-06\\\\\":(1,14),\"SBIR_2022-10-21\\\\\":(37,40),\"SBIR_2022-10-22\\\\\":(41,53),\"SBIR_2022-10-20\\\\\":(33,36)}"
   ]
  },
  {
   "cell_type": "code",
   "execution_count": null,
   "metadata": {},
   "outputs": [],
   "source": [
    "## Split Pcap files in linux"
   ]
  },
  {
   "cell_type": "code",
   "execution_count": null,
   "metadata": {
    "id": "ptDonpLkaoBd"
   },
   "outputs": [],
   "source": [
    "def break_up_pcap_linux(date,val):\n",
    "  prefix = \"../../new_data/\" + date + f\"{val}/\"\n",
    "\n",
    "  files = [f for f in listdir(prefix)]\n",
    "\n",
    "  meta_path = prefix + files[0][:-5] + \".json\"\n",
    "  \n",
    "  pcap_path = prefix + files[0][:-5] + \".pcap\"\n",
    "\n",
    "  save_path = prefix + files[0][:-5]\n",
    "\n",
    "  print(f\"Started {prefix}...\")\n",
    "\n",
    "  subprocess.run([\"tcpdump\", \"-r\", pcap_path, \"-w\", \"small_file.pcap\", \"-C\", \"2000\"])\n",
    "\n",
    "  print(f\"Finished {prefix}...\")"
   ]
  },
  {
   "cell_type": "code",
   "execution_count": null,
   "metadata": {
    "id": "lTcuNCz6j1-h"
   },
   "outputs": [],
   "source": [
    "date = \"SBIR_2022-09-24/\"\n",
    "start,end = dates[date]"
   ]
  },
  {
   "cell_type": "code",
   "execution_count": null,
   "metadata": {
    "id": "jQ6CX1rWrrUb"
   },
   "outputs": [],
   "source": [
    "break_up_pcap_linux(date,1)"
   ]
  },
  {
   "cell_type": "code",
   "execution_count": null,
   "metadata": {
    "id": "qpcg9BF-a7I8"
   },
   "outputs": [],
   "source": [
    "Parallel(n_jobs=4, prefer=\"threads\")(delayed(break_up_pcap_linux)(date,val) for val in range(start,end+1))"
   ]
  },
  {
   "cell_type": "code",
   "execution_count": null,
   "metadata": {},
   "outputs": [],
   "source": [
    "##Split Pcap files in windows"
   ]
  },
  {
   "cell_type": "code",
   "execution_count": null,
   "metadata": {
    "executionInfo": {
     "elapsed": 7,
     "status": "ok",
     "timestamp": 1668291595674,
     "user": {
      "displayName": "Joseph Daniel Selvaraaj",
      "userId": "01267249207347429283"
     },
     "user_tz": 300
    },
    "id": "WCDvYir2sETC",
    "tags": []
   },
   "outputs": [],
   "source": [
    "def break_up_pcap_windows(date,val):\n",
    "  prefix = \"D:\\\\SBIR\\\\\" + date + f\"{val}\\\\\"\n",
    "\n",
    "  files = [f for f in listdir(prefix)]\n",
    "  \n",
    "  pcap_path = prefix + files[0][:-5] + \".pcap\"\n",
    "\n",
    "  print(f\"Started {pcap_path}...\")\n",
    "\n",
    "  subprocess.run([\"SplitCap.exe\", \"-r\", pcap_path, \"-o\", f\"{prefix}small_files\", \"-s\", \"seconds\",\"360\",\"-b\",\"100000\"])\n",
    "    \n",
    "  print(f\"Finished {prefix}...\")\n",
    "  "
   ]
  },
  {
   "cell_type": "code",
   "execution_count": null,
   "metadata": {},
   "outputs": [],
   "source": []
  },
  {
   "cell_type": "code",
   "execution_count": null,
   "metadata": {
    "executionInfo": {
     "elapsed": 6,
     "status": "ok",
     "timestamp": 1668291595675,
     "user": {
      "displayName": "Joseph Daniel Selvaraaj",
      "userId": "01267249207347429283"
     },
     "user_tz": 300
    },
    "id": "XD7PoaXIsbQC",
    "tags": []
   },
   "outputs": [],
   "source": [
    "date = \"SBIR_2022-10-20\\\\\""
   ]
  },
  {
   "cell_type": "code",
   "execution_count": null,
   "metadata": {
    "colab": {
     "base_uri": "https://localhost:8080/"
    },
    "executionInfo": {
     "elapsed": 12093,
     "status": "ok",
     "timestamp": 1668287865137,
     "user": {
      "displayName": "Joseph Daniel Selvaraaj",
      "userId": "01267249207347429283"
     },
     "user_tz": 300
    },
    "id": "o7qtiweCsK4x",
    "outputId": "a45e0803-6b57-49c4-f6e1-d035ea74ea5b",
    "tags": []
   },
   "outputs": [],
   "source": [
    "break_up_pcap(date,1)"
   ]
  },
  {
   "cell_type": "code",
   "execution_count": null,
   "metadata": {
    "colab": {
     "base_uri": "https://localhost:8080/",
     "height": 381
    },
    "executionInfo": {
     "elapsed": 587991,
     "status": "error",
     "timestamp": 1668293549347,
     "user": {
      "displayName": "Joseph Daniel Selvaraaj",
      "userId": "01267249207347429283"
     },
     "user_tz": 300
    },
    "id": "PEgQim_Qsbv5",
    "outputId": "373c2dc9-1acd-4fb4-d33f-21cfcbb0c66b",
    "tags": []
   },
   "outputs": [],
   "source": [
    "Parallel(n_jobs=4, prefer=\"threads\")(delayed(break_up_pcap)(date,val)for val in range(dates[date][0],dates[date][1]+1))"
   ]
  },
  {
   "cell_type": "markdown",
   "metadata": {},
   "source": [
    "<h1>Old Convert pcap to pcd</h1>"
   ]
  },
  {
   "cell_type": "code",
   "execution_count": null,
   "metadata": {
    "id": "6XMY-f20AmK_",
    "tags": []
   },
   "outputs": [],
   "source": [
    "def convert_to_pcd():\n",
    "  prefix = \"D:\\\\Data\\\\\"\n",
    "\n",
    "  files = [f for f in listdir(prefix)]\n",
    "  files = list(filter(lambda x: x.endswith(\".pcap\"),files))\n",
    "  files = list(filter(lambda x: not x.startswith(\"._\"),files))\n",
    "\n",
    "  print(f\"Started...\")\n",
    "    \n",
    "  def fun(fname):\n",
    "    prefix = \"D:\\\\Data\\\\\"\n",
    "    name = fname[:-5]\n",
    "    out = name\n",
    "    # if name.startswith(\".\"):\n",
    "    #     out = \"small\"+name[2:]\n",
    "    # else:\n",
    "    #     out = name\n",
    "    pcap = prefix + name + \".pcap\"\n",
    "    meta = prefix + name + \"_config.json\"\n",
    "    print(pcap,meta,f\".\\\\{out}\")\n",
    "    subprocess.run([\"python\",f\"{prefix}pcap.py\" ,pcap ,meta,f\"{prefix+out}\" ,\"pcap-to-pcd\"])\n",
    "\n",
    "  Parallel(n_jobs=4)(delayed(fun)(f)for f in files)\n",
    "\n",
    "  print(f\"Finished...\")\n",
    "  "
   ]
  },
  {
   "cell_type": "code",
   "execution_count": null,
   "metadata": {},
   "outputs": [],
   "source": [
    "convert_to_pcd()"
   ]
  },
  {
   "cell_type": "code",
   "execution_count": null,
   "metadata": {},
   "outputs": [],
   "source": [
    "%pwd"
   ]
  },
  {
   "cell_type": "code",
   "execution_count": null,
   "metadata": {},
   "outputs": [],
   "source": []
  }
 ],
 "metadata": {
  "colab": {
   "authorship_tag": "ABX9TyPTuAbu+viK/tdwql5ikYld",
   "collapsed_sections": [],
   "provenance": []
  },
  "kernelspec": {
   "display_name": "Python 3 (ipykernel)",
   "language": "python",
   "name": "python3"
  },
  "language_info": {
   "codemirror_mode": {
    "name": "ipython",
    "version": 3
   },
   "file_extension": ".py",
   "mimetype": "text/x-python",
   "name": "python",
   "nbconvert_exporter": "python",
   "pygments_lexer": "ipython3",
   "version": "3.10.4"
  }
 },
 "nbformat": 4,
 "nbformat_minor": 4
}
